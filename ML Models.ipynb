{
 "cells": [
  {
   "cell_type": "code",
   "execution_count": 2,
   "metadata": {
    "scrolled": true
   },
   "outputs": [
    {
     "name": "stderr",
     "output_type": "stream",
     "text": [
      "/home/nacho/anaconda3/lib/python3.6/site-packages/sklearn/cross_validation.py:41: DeprecationWarning: This module was deprecated in version 0.18 in favor of the model_selection module into which all the refactored classes and functions are moved. Also note that the interface of the new CV iterators are different from that of this module. This module will be removed in 0.20.\n",
      "  \"This module will be removed in 0.20.\", DeprecationWarning)\n"
     ]
    }
   ],
   "source": [
    "# Hide deprecation warnings\n",
    "import warnings\n",
    "warnings.filterwarnings('ignore')\n",
    "\n",
    "# Common imports\n",
    "import numpy as np\n",
    "import pandas as pd\n",
    "from sklearn.base import BaseEstimator, TransformerMixin\n",
    "from sklearn.preprocessing import LabelEncoder\n",
    "from sklearn.metrics import confusion_matrix\n",
    "from sklearn.linear_model import LogisticRegression\n",
    "from sklearn.ensemble import RandomForestClassifier\n",
    "from sklearn.ensemble import AdaBoostClassifier\n",
    "from sklearn.ensemble import GradientBoostingClassifier\n",
    "from sklearn.linear_model import SGDClassifier\n",
    "import xgboost as xgb\n",
    "from sklearn.neighbors import KNeighborsClassifier\n",
    "from sklearn.svm import SVC\n",
    "from sklearn.ensemble import VotingClassifier\n",
    "from sklearn.tree import DecisionTreeClassifier\n",
    "from sklearn.model_selection import GridSearchCV\n",
    "from sklearn.model_selection import cross_val_score\n",
    "from sklearn.model_selection import cross_validate\n",
    "from sklearn.model_selection import cross_val_predict\n",
    "from sklearn import preprocessing\n",
    "import pickle\n",
    "\n",
    "# To plot pretty figures\n",
    "%matplotlib inline\n",
    "import matplotlib\n",
    "import matplotlib.pyplot as plt\n",
    "plt.rcParams['axes.labelsize'] = 14\n",
    "plt.rcParams['xtick.labelsize'] = 12\n",
    "plt.rcParams['ytick.labelsize'] = 12\n",
    "\n",
    "# To format floats\n",
    "from IPython.display import display\n",
    "pd.set_option('display.float_format', lambda x: '%.5f' % x)"
   ]
  },
  {
   "cell_type": "code",
   "execution_count": 2,
   "metadata": {
    "collapsed": true
   },
   "outputs": [],
   "source": [
    "models = {\n",
    "    \"SGD Classifier\": SGDClassifier(),\n",
    "    \"Random Forests\": RandomForestClassifier(),\n",
    "    \"k-Nearest Neighbors\": KNeighborsClassifier(),\n",
    "    \"Softmax Regression\": LogisticRegression(),\n",
    "    #\"SVM\": SVC(),\n",
    "    \"Decission Trees\": DecisionTreeClassifier(),\n",
    "    \"AdaBoost\":AdaBoostClassifier(),\n",
    "    \"Gradient Boost\":GradientBoostingClassifier()\n",
    "}"
   ]
  },
  {
   "cell_type": "markdown",
   "metadata": {},
   "source": [
    "#### Model times for n_rows = 3889"
   ]
  },
  {
   "cell_type": "code",
   "execution_count": 3,
   "metadata": {
    "collapsed": true
   },
   "outputs": [],
   "source": [
    "#Load all the csv files into Pandas dataframes\n",
    "\n",
    "X_train = np.loadtxt(open(\"./data/processed/train.csv\", \"rb\"), delimiter=\",\", \\\n",
    "                     usecols=(0,1,2,3,4,7,8,9,10,11), skiprows=184900000)\n",
    "y_train = np.loadtxt(open(\"./data/processed/train.csv\", \"rb\"), delimiter=\",\", usecols=(6), skiprows=184900000)"
   ]
  },
  {
   "cell_type": "code",
   "execution_count": 4,
   "metadata": {},
   "outputs": [
    {
     "name": "stdout",
     "output_type": "stream",
     "text": [
      "CPU times: user 33.9 ms, sys: 4.25 ms, total: 38.1 ms\n",
      "Wall time: 47.3 ms\n",
      "SGD Classifier\n",
      "CV AUC ROC: 0.687 +/- 0.134\n",
      "----------------\n",
      "CPU times: user 295 ms, sys: 1.62 ms, total: 297 ms\n",
      "Wall time: 296 ms\n",
      "Random Forests\n",
      "CV AUC ROC: 0.892 +/- 0.112\n",
      "----------------\n",
      "CPU times: user 124 ms, sys: 0 ns, total: 124 ms\n",
      "Wall time: 123 ms\n",
      "k-Nearest Neighbors\n",
      "CV AUC ROC: 0.746 +/- 0.075\n",
      "----------------\n",
      "CPU times: user 229 ms, sys: 0 ns, total: 229 ms\n",
      "Wall time: 229 ms\n",
      "Softmax Regression\n",
      "CV AUC ROC: 0.862 +/- 0.077\n",
      "----------------\n",
      "CPU times: user 117 ms, sys: 0 ns, total: 117 ms\n",
      "Wall time: 117 ms\n",
      "Decission Trees\n",
      "CV AUC ROC: 0.740 +/- 0.098\n",
      "----------------\n",
      "CPU times: user 1.5 s, sys: 0 ns, total: 1.5 s\n",
      "Wall time: 1.5 s\n",
      "AdaBoost\n",
      "CV AUC ROC: 0.932 +/- 0.076\n",
      "----------------\n",
      "CPU times: user 1.63 s, sys: 0 ns, total: 1.63 s\n",
      "Wall time: 1.63 s\n",
      "Gradient Boost\n",
      "CV AUC ROC: 0.915 +/- 0.052\n",
      "----------------\n"
     ]
    }
   ],
   "source": [
    "results = []\n",
    "names = []\n",
    "\n",
    "for k, v in models.items():\n",
    "    %time cv_scores = cross_val_score(estimator=v, X=X_train, y=y_train, cv=10, n_jobs=1, scoring='roc_auc')\n",
    "    \n",
    "    results.append(cv_scores)\n",
    "    names.append(k)\n",
    "\n",
    "    print(k)\n",
    "    print('CV AUC ROC: %.3f +/- %.3f' % (np.mean(cv_scores), np.std(cv_scores)))\n",
    "    print('----------------')"
   ]
  },
  {
   "cell_type": "markdown",
   "metadata": {},
   "source": [
    "#### Model times for n_rows = 103889"
   ]
  },
  {
   "cell_type": "code",
   "execution_count": 5,
   "metadata": {
    "collapsed": true
   },
   "outputs": [],
   "source": [
    "#Load all the csv files into Pandas dataframes\n",
    "\n",
    "X_train = np.loadtxt(open(\"./data/processed/train.csv\", \"rb\"), delimiter=\",\", \\\n",
    "                     usecols=(0,1,2,3,4,7,8,9,10,11), skiprows=184800000)\n",
    "y_train = np.loadtxt(open(\"./data/processed/train.csv\", \"rb\"), delimiter=\",\", usecols=(6), skiprows=184800000)"
   ]
  },
  {
   "cell_type": "code",
   "execution_count": 6,
   "metadata": {},
   "outputs": [
    {
     "name": "stdout",
     "output_type": "stream",
     "text": [
      "CPU times: user 1.87 s, sys: 3.63 s, total: 5.49 s\n",
      "Wall time: 774 ms\n",
      "SGD Classifier\n",
      "CV accuracy: 0.872 +/- 0.044\n",
      "----------------\n",
      "CPU times: user 8.6 s, sys: 380 ms, total: 8.98 s\n",
      "Wall time: 8.51 s\n",
      "Random Forests\n",
      "CV accuracy: 0.925 +/- 0.024\n",
      "----------------\n",
      "CPU times: user 10.9 s, sys: 0 ns, total: 10.9 s\n",
      "Wall time: 10.9 s\n",
      "k-Nearest Neighbors\n",
      "CV accuracy: 0.625 +/- 0.101\n",
      "----------------\n",
      "CPU times: user 8.42 s, sys: 4.34 s, total: 12.8 s\n",
      "Wall time: 6.93 s\n",
      "Softmax Regression\n",
      "CV accuracy: 0.930 +/- 0.022\n",
      "----------------\n",
      "CPU times: user 3.72 s, sys: 413 ms, total: 4.13 s\n",
      "Wall time: 3.59 s\n",
      "Decission Trees\n",
      "CV accuracy: 0.769 +/- 0.112\n",
      "----------------\n",
      "CPU times: user 22.7 s, sys: 0 ns, total: 22.7 s\n",
      "Wall time: 22.7 s\n",
      "AdaBoost\n",
      "CV accuracy: 0.974 +/- 0.009\n",
      "----------------\n",
      "CPU times: user 46.1 s, sys: 0 ns, total: 46.1 s\n",
      "Wall time: 46.1 s\n",
      "Gradient Boost\n",
      "CV accuracy: 0.968 +/- 0.027\n",
      "----------------\n"
     ]
    }
   ],
   "source": [
    "results = []\n",
    "names = []\n",
    "\n",
    "for k, v in models.items():\n",
    "    %time cv_scores = cross_val_score(estimator=v, X=X_train, y=y_train, cv=10, n_jobs=1, scoring='roc_auc')\n",
    "    \n",
    "    results.append(cv_scores)\n",
    "    names.append(k)\n",
    "\n",
    "    print(k)\n",
    "    print('CV accuracy: %.3f +/- %.3f' % (np.mean(cv_scores), np.std(cv_scores)))\n",
    "    print('----------------')"
   ]
  },
  {
   "cell_type": "markdown",
   "metadata": {},
   "source": [
    "#### Model times for n_rows = 203889"
   ]
  },
  {
   "cell_type": "code",
   "execution_count": 7,
   "metadata": {
    "collapsed": true
   },
   "outputs": [],
   "source": [
    "#Load all the csv files into Pandas dataframes\n",
    "\n",
    "X_train = np.loadtxt(open(\"./data/processed/train.csv\", \"rb\"), delimiter=\",\", \\\n",
    "                     usecols=(0,1,2,3,4,7,8,9,10,11), skiprows=184700000)\n",
    "y_train = np.loadtxt(open(\"./data/processed/train.csv\", \"rb\"), delimiter=\",\", usecols=(6), skiprows=184700000)"
   ]
  },
  {
   "cell_type": "code",
   "execution_count": 8,
   "metadata": {},
   "outputs": [
    {
     "name": "stdout",
     "output_type": "stream",
     "text": [
      "CPU times: user 3.23 s, sys: 4.29 s, total: 7.52 s\n",
      "Wall time: 1.86 s\n",
      "SGD Classifier\n",
      "CV accuracy: 0.876 +/- 0.031\n",
      "----------------\n",
      "CPU times: user 21 s, sys: 354 ms, total: 21.4 s\n",
      "Wall time: 20.8 s\n",
      "Random Forests\n",
      "CV accuracy: 0.896 +/- 0.131\n",
      "----------------\n",
      "CPU times: user 27.4 s, sys: 0 ns, total: 27.4 s\n",
      "Wall time: 27.3 s\n",
      "k-Nearest Neighbors\n",
      "CV accuracy: 0.661 +/- 0.077\n",
      "----------------\n",
      "CPU times: user 15 s, sys: 4.23 s, total: 19.3 s\n",
      "Wall time: 13.4 s\n",
      "Softmax Regression\n",
      "CV accuracy: 0.932 +/- 0.014\n",
      "----------------\n",
      "CPU times: user 8.48 s, sys: 421 ms, total: 8.91 s\n",
      "Wall time: 8.31 s\n",
      "Decission Trees\n",
      "CV accuracy: 0.775 +/- 0.121\n",
      "----------------\n",
      "CPU times: user 49.8 s, sys: 0 ns, total: 49.8 s\n",
      "Wall time: 49.8 s\n",
      "AdaBoost\n",
      "CV accuracy: 0.979 +/- 0.002\n",
      "----------------\n",
      "CPU times: user 1min 48s, sys: 0 ns, total: 1min 48s\n",
      "Wall time: 1min 48s\n",
      "Gradient Boost\n",
      "CV accuracy: 0.947 +/- 0.065\n",
      "----------------\n"
     ]
    }
   ],
   "source": [
    "results = []\n",
    "names = []\n",
    "\n",
    "for k, v in models.items():\n",
    "    %time cv_scores = cross_val_score(estimator=v, X=X_train, y=y_train, cv=10, n_jobs=1, scoring='roc_auc')\n",
    "    \n",
    "    results.append(cv_scores)\n",
    "    names.append(k)\n",
    "\n",
    "    print(k)\n",
    "    print('CV accuracy: %.3f +/- %.3f' % (np.mean(cv_scores), np.std(cv_scores)))\n",
    "    print('----------------')"
   ]
  },
  {
   "cell_type": "markdown",
   "metadata": {},
   "source": [
    "#### Model times for n_rows = 1003889"
   ]
  },
  {
   "cell_type": "code",
   "execution_count": 12,
   "metadata": {
    "collapsed": true
   },
   "outputs": [],
   "source": [
    "#Load all the csv files into Pandas dataframes\n",
    "\n",
    "X_train = np.loadtxt(open(\"./data/processed/train.csv\", \"rb\"), delimiter=\",\", \\\n",
    "                     usecols=(0,1,2,3,4,7,8,9,10,11), skiprows=183900000)\n",
    "y_train = np.loadtxt(open(\"./data/processed/train.csv\", \"rb\"), delimiter=\",\", usecols=(6), skiprows=183900000)"
   ]
  },
  {
   "cell_type": "code",
   "execution_count": 13,
   "metadata": {
    "collapsed": true
   },
   "outputs": [],
   "source": [
    "models = {\n",
    "    \"SGD Classifier\": SGDClassifier(),\n",
    "    \"Softmax Regression\": LogisticRegression(),\n",
    "    \"Random Forests\": RandomForestClassifier()    \n",
    "}"
   ]
  },
  {
   "cell_type": "code",
   "execution_count": 14,
   "metadata": {},
   "outputs": [
    {
     "name": "stdout",
     "output_type": "stream",
     "text": [
      "CPU times: user 9 s, sys: 4.81 s, total: 13.8 s\n",
      "Wall time: 7.74 s\n",
      "SGD Classifier\n",
      "CV accuracy: 0.890 +/- 0.016\n",
      "----------------\n",
      "CPU times: user 1min 3s, sys: 4.97 s, total: 1min 8s\n",
      "Wall time: 1min 1s\n",
      "Softmax Regression\n",
      "CV accuracy: 0.929 +/- 0.003\n",
      "----------------\n",
      "CPU times: user 2min 48s, sys: 305 ms, total: 2min 49s\n",
      "Wall time: 2min 48s\n",
      "Random Forests\n",
      "CV accuracy: 0.951 +/- 0.005\n",
      "----------------\n"
     ]
    }
   ],
   "source": [
    "results = []\n",
    "names = []\n",
    "\n",
    "for k, v in models.items():\n",
    "    %time cv_scores = cross_val_score(estimator=v, X=X_train, y=y_train, cv=10, n_jobs=1, scoring='roc_auc')\n",
    "    \n",
    "    results.append(cv_scores)\n",
    "    names.append(k)\n",
    "\n",
    "    print(k)\n",
    "    print('CV accuracy: %.3f +/- %.3f' % (np.mean(cv_scores), np.std(cv_scores)))\n",
    "    print('----------------')"
   ]
  },
  {
   "cell_type": "markdown",
   "metadata": {},
   "source": [
    "## SGD & Random forest optimization"
   ]
  },
  {
   "cell_type": "code",
   "execution_count": 15,
   "metadata": {
    "collapsed": true
   },
   "outputs": [],
   "source": [
    "models = {\n",
    "    \"SGD Classifier\": SGDClassifier(),\n",
    "    \"Random Forests\": RandomForestClassifier()    \n",
    "}"
   ]
  },
  {
   "cell_type": "markdown",
   "metadata": {},
   "source": [
    "SGD"
   ]
  },
  {
   "cell_type": "code",
   "execution_count": 16,
   "metadata": {
    "scrolled": true
   },
   "outputs": [
    {
     "name": "stdout",
     "output_type": "stream",
     "text": [
      "Fitting 3 folds for each of 16 candidates, totalling 48 fits\n",
      "[CV] alpha=1e-05, loss=log, n_jobs=-1, penalty=none ..................\n",
      "[CV] alpha=1e-05, loss=log, n_jobs=-1, penalty=none ..................\n",
      "[CV] alpha=1e-05, loss=log, n_jobs=-1, penalty=none ..................\n",
      "[CV] alpha=1e-05, loss=log, n_jobs=-1, penalty=l2 ....................\n",
      "[CV] alpha=1e-05, loss=log, n_jobs=-1, penalty=l2 ....................\n",
      "[CV] alpha=1e-05, loss=log, n_jobs=-1, penalty=l2 ....................\n",
      "[CV] alpha=1e-05, loss=log, n_jobs=-1, penalty=l1 ....................\n",
      "[CV] alpha=1e-05, loss=log, n_jobs=-1, penalty=l1 ....................\n",
      "[CV] ... alpha=1e-05, loss=log, n_jobs=-1, penalty=none, total=   1.8s\n",
      "[CV] alpha=1e-05, loss=log, n_jobs=-1, penalty=l1 ....................\n",
      "[CV] ... alpha=1e-05, loss=log, n_jobs=-1, penalty=none, total=   2.2s\n",
      "[CV] alpha=1e-05, loss=log, n_jobs=-1, penalty=elasticnet ............\n",
      "[CV] ..... alpha=1e-05, loss=log, n_jobs=-1, penalty=l2, total=   2.4s\n",
      "[CV] alpha=1e-05, loss=log, n_jobs=-1, penalty=elasticnet ............\n",
      "[CV] ... alpha=1e-05, loss=log, n_jobs=-1, penalty=none, total=   2.7s\n",
      "[CV] alpha=1e-05, loss=log, n_jobs=-1, penalty=elasticnet ............\n",
      "[CV] ..... alpha=1e-05, loss=log, n_jobs=-1, penalty=l2, total=   2.4s\n",
      "[CV] alpha=0.0001, loss=log, n_jobs=-1, penalty=none .................\n",
      "[CV] ..... alpha=1e-05, loss=log, n_jobs=-1, penalty=l2, total=   3.0s\n",
      "[CV] alpha=0.0001, loss=log, n_jobs=-1, penalty=none .................\n",
      "[CV] ..... alpha=1e-05, loss=log, n_jobs=-1, penalty=l1, total=   3.1s\n",
      "[CV] alpha=0.0001, loss=log, n_jobs=-1, penalty=none .................\n",
      "[CV] ..... alpha=1e-05, loss=log, n_jobs=-1, penalty=l1, total=   3.4s\n",
      "[CV] alpha=0.0001, loss=log, n_jobs=-1, penalty=l2 ...................\n",
      "[CV] ..... alpha=1e-05, loss=log, n_jobs=-1, penalty=l1, total=   3.2s\n",
      "[CV] alpha=0.0001, loss=log, n_jobs=-1, penalty=l2 ...................\n",
      "[CV] .. alpha=0.0001, loss=log, n_jobs=-1, penalty=none, total=   2.8s\n",
      "[CV] alpha=0.0001, loss=log, n_jobs=-1, penalty=l2 ...................\n",
      "[CV]  alpha=1e-05, loss=log, n_jobs=-1, penalty=elasticnet, total=   3.0s\n",
      "[CV] alpha=0.0001, loss=log, n_jobs=-1, penalty=l1 ...................\n",
      "[CV]  alpha=1e-05, loss=log, n_jobs=-1, penalty=elasticnet, total=   3.2s\n",
      "[CV] alpha=0.0001, loss=log, n_jobs=-1, penalty=l1 ...................\n",
      "[CV] .. alpha=0.0001, loss=log, n_jobs=-1, penalty=none, total=   2.7s\n",
      "[CV] alpha=0.0001, loss=log, n_jobs=-1, penalty=l1 ...................\n",
      "[CV]  alpha=1e-05, loss=log, n_jobs=-1, penalty=elasticnet, total=   3.9s\n",
      "[CV] alpha=0.0001, loss=log, n_jobs=-1, penalty=elasticnet ...........\n",
      "[CV] .. alpha=0.0001, loss=log, n_jobs=-1, penalty=none, total=   3.9s\n",
      "[CV] alpha=0.0001, loss=log, n_jobs=-1, penalty=elasticnet ...........\n",
      "[CV] .... alpha=0.0001, loss=log, n_jobs=-1, penalty=l2, total=   3.5s\n",
      "[CV] alpha=0.0001, loss=log, n_jobs=-1, penalty=elasticnet ...........\n",
      "[CV] .... alpha=0.0001, loss=log, n_jobs=-1, penalty=l2, total=   2.6s\n",
      "[CV] alpha=0.001, loss=log, n_jobs=-1, penalty=none ..................\n",
      "[CV] .... alpha=0.0001, loss=log, n_jobs=-1, penalty=l2, total=   2.9s\n",
      "[CV] alpha=0.001, loss=log, n_jobs=-1, penalty=none ..................\n",
      "[CV] .... alpha=0.0001, loss=log, n_jobs=-1, penalty=l1, total=   3.3s\n",
      "[CV] alpha=0.001, loss=log, n_jobs=-1, penalty=none ..................\n",
      "[CV] .... alpha=0.0001, loss=log, n_jobs=-1, penalty=l1, total=   3.2s\n",
      "[CV] .... alpha=0.0001, loss=log, n_jobs=-1, penalty=l1, total=   3.0s\n",
      "[CV] alpha=0.001, loss=log, n_jobs=-1, penalty=l2 ....................\n",
      "[CV] alpha=0.001, loss=log, n_jobs=-1, penalty=l2 ....................\n",
      "[CV]  alpha=0.0001, loss=log, n_jobs=-1, penalty=elasticnet, total=   3.4s\n",
      "[CV] alpha=0.001, loss=log, n_jobs=-1, penalty=l2 ....................\n",
      "[CV] ... alpha=0.001, loss=log, n_jobs=-1, penalty=none, total=   2.7s\n",
      "[CV] alpha=0.001, loss=log, n_jobs=-1, penalty=l1 ....................\n",
      "[CV]  alpha=0.0001, loss=log, n_jobs=-1, penalty=elasticnet, total=   3.2s\n",
      "[CV] alpha=0.001, loss=log, n_jobs=-1, penalty=l1 ....................\n",
      "[CV]  alpha=0.0001, loss=log, n_jobs=-1, penalty=elasticnet, total=   3.6s\n",
      "[CV] alpha=0.001, loss=log, n_jobs=-1, penalty=l1 ....................\n"
     ]
    },
    {
     "name": "stderr",
     "output_type": "stream",
     "text": [
      "[Parallel(n_jobs=-1)]: Done  25 tasks      | elapsed:   13.1s\n"
     ]
    },
    {
     "name": "stdout",
     "output_type": "stream",
     "text": [
      "[CV] ... alpha=0.001, loss=log, n_jobs=-1, penalty=none, total=   2.8s\n",
      "[CV] alpha=0.001, loss=log, n_jobs=-1, penalty=elasticnet ............\n",
      "[CV] ... alpha=0.001, loss=log, n_jobs=-1, penalty=none, total=   2.8s\n",
      "[CV] alpha=0.001, loss=log, n_jobs=-1, penalty=elasticnet ............\n",
      "[CV] ..... alpha=0.001, loss=log, n_jobs=-1, penalty=l2, total=   2.9s\n",
      "[CV] alpha=0.001, loss=log, n_jobs=-1, penalty=elasticnet ............\n",
      "[CV] ..... alpha=0.001, loss=log, n_jobs=-1, penalty=l2, total=   2.9s\n",
      "[CV] alpha=0.01, loss=log, n_jobs=-1, penalty=none ...................\n",
      "[CV] ..... alpha=0.001, loss=log, n_jobs=-1, penalty=l2, total=   2.9s\n",
      "[CV] alpha=0.01, loss=log, n_jobs=-1, penalty=none ...................\n",
      "[CV] ..... alpha=0.001, loss=log, n_jobs=-1, penalty=l1, total=   3.2s\n",
      "[CV] alpha=0.01, loss=log, n_jobs=-1, penalty=none ...................\n",
      "[CV] ..... alpha=0.001, loss=log, n_jobs=-1, penalty=l1, total=   3.4s\n",
      "[CV] alpha=0.01, loss=log, n_jobs=-1, penalty=l2 .....................\n",
      "[CV] ..... alpha=0.001, loss=log, n_jobs=-1, penalty=l1, total=   3.9s\n",
      "[CV]  alpha=0.001, loss=log, n_jobs=-1, penalty=elasticnet, total=   3.3s\n",
      "[CV] alpha=0.01, loss=log, n_jobs=-1, penalty=l2 .....................\n",
      "[CV] alpha=0.01, loss=log, n_jobs=-1, penalty=l2 .....................\n",
      "[CV]  alpha=0.001, loss=log, n_jobs=-1, penalty=elasticnet, total=   3.3s\n",
      "[CV] alpha=0.01, loss=log, n_jobs=-1, penalty=l1 .....................\n",
      "[CV] .... alpha=0.01, loss=log, n_jobs=-1, penalty=none, total=   2.9s\n",
      "[CV] alpha=0.01, loss=log, n_jobs=-1, penalty=l1 .....................\n",
      "[CV]  alpha=0.001, loss=log, n_jobs=-1, penalty=elasticnet, total=   3.4s\n",
      "[CV] alpha=0.01, loss=log, n_jobs=-1, penalty=l1 .....................\n",
      "[CV] .... alpha=0.01, loss=log, n_jobs=-1, penalty=none, total=   3.2s\n",
      "[CV] alpha=0.01, loss=log, n_jobs=-1, penalty=elasticnet .............\n",
      "[CV] .... alpha=0.01, loss=log, n_jobs=-1, penalty=none, total=   2.8s\n",
      "[CV] alpha=0.01, loss=log, n_jobs=-1, penalty=elasticnet .............\n",
      "[CV] ...... alpha=0.01, loss=log, n_jobs=-1, penalty=l2, total=   2.5s\n",
      "[CV] alpha=0.01, loss=log, n_jobs=-1, penalty=elasticnet .............\n",
      "[CV] ...... alpha=0.01, loss=log, n_jobs=-1, penalty=l2, total=   2.6s\n",
      "[CV] ...... alpha=0.01, loss=log, n_jobs=-1, penalty=l2, total=   2.9s\n",
      "[CV] ...... alpha=0.01, loss=log, n_jobs=-1, penalty=l1, total=   2.9s\n",
      "[CV] ...... alpha=0.01, loss=log, n_jobs=-1, penalty=l1, total=   3.0s\n",
      "[CV] ...... alpha=0.01, loss=log, n_jobs=-1, penalty=l1, total=   2.6s\n",
      "[CV]  alpha=0.01, loss=log, n_jobs=-1, penalty=elasticnet, total=   2.6s\n",
      "[CV]  alpha=0.01, loss=log, n_jobs=-1, penalty=elasticnet, total=   2.4s\n",
      "[CV]  alpha=0.01, loss=log, n_jobs=-1, penalty=elasticnet, total=   2.5s\n"
     ]
    },
    {
     "name": "stderr",
     "output_type": "stream",
     "text": [
      "[Parallel(n_jobs=-1)]: Done  48 out of  48 | elapsed:   22.6s finished\n"
     ]
    },
    {
     "data": {
      "text/plain": [
       "GridSearchCV(cv=3, error_score='raise',\n",
       "       estimator=SGDClassifier(alpha=0.0001, average=False, class_weight=None, epsilon=0.1,\n",
       "       eta0=0.0, fit_intercept=True, l1_ratio=0.15,\n",
       "       learning_rate='optimal', loss='hinge', max_iter=None, n_iter=None,\n",
       "       n_jobs=1, penalty='l2', power_t=0.5, random_state=None,\n",
       "       shuffle=True, tol=None, verbose=0, warm_start=False),\n",
       "       fit_params=None, iid=True, n_jobs=-1,\n",
       "       param_grid=[{'penalty': ['none', 'l2', 'l1', 'elasticnet'], 'alpha': [1e-05, 0.0001, 0.001, 0.01], 'loss': ['log'], 'n_jobs': [-1]}],\n",
       "       pre_dispatch='2*n_jobs', refit=True, return_train_score='warn',\n",
       "       scoring='roc_auc', verbose=2)"
      ]
     },
     "execution_count": 16,
     "metadata": {},
     "output_type": "execute_result"
    }
   ],
   "source": [
    "param_grid = [{'penalty': ['none', 'l2','l1','elasticnet'], \n",
    "               'alpha': [ 0.00001,  0.0001,  0.001,  0.01],\n",
    "               'loss': ['log'],\n",
    "               'n_jobs': [-1]}]\n",
    "\n",
    "sgd_clf = SGDClassifier()\n",
    "grid_search_sgd = GridSearchCV(sgd_clf, param_grid, cv=3, scoring='roc_auc', verbose=2, n_jobs=-1)\n",
    "grid_search_sgd.fit(X_train, y_train)"
   ]
  },
  {
   "cell_type": "code",
   "execution_count": 17,
   "metadata": {},
   "outputs": [
    {
     "name": "stdout",
     "output_type": "stream",
     "text": [
      "0.922998920127 {'alpha': 1e-05, 'loss': 'log', 'n_jobs': -1, 'penalty': 'none'}\n",
      "0.89013691457 {'alpha': 1e-05, 'loss': 'log', 'n_jobs': -1, 'penalty': 'l2'}\n",
      "0.921149939531 {'alpha': 1e-05, 'loss': 'log', 'n_jobs': -1, 'penalty': 'l1'}\n",
      "0.900864166738 {'alpha': 1e-05, 'loss': 'log', 'n_jobs': -1, 'penalty': 'elasticnet'}\n",
      "0.922197391353 {'alpha': 0.0001, 'loss': 'log', 'n_jobs': -1, 'penalty': 'none'}\n",
      "0.883628155985 {'alpha': 0.0001, 'loss': 'log', 'n_jobs': -1, 'penalty': 'l2'}\n",
      "0.921346750125 {'alpha': 0.0001, 'loss': 'log', 'n_jobs': -1, 'penalty': 'l1'}\n",
      "0.879222497879 {'alpha': 0.0001, 'loss': 'log', 'n_jobs': -1, 'penalty': 'elasticnet'}\n",
      "0.923848077595 {'alpha': 0.001, 'loss': 'log', 'n_jobs': -1, 'penalty': 'none'}\n",
      "0.883744793507 {'alpha': 0.001, 'loss': 'log', 'n_jobs': -1, 'penalty': 'l2'}\n",
      "0.925640623594 {'alpha': 0.001, 'loss': 'log', 'n_jobs': -1, 'penalty': 'l1'}\n",
      "0.884447235103 {'alpha': 0.001, 'loss': 'log', 'n_jobs': -1, 'penalty': 'elasticnet'}\n",
      "0.924282745751 {'alpha': 0.01, 'loss': 'log', 'n_jobs': -1, 'penalty': 'none'}\n",
      "0.876562481425 {'alpha': 0.01, 'loss': 'log', 'n_jobs': -1, 'penalty': 'l2'}\n",
      "0.927470810052 {'alpha': 0.01, 'loss': 'log', 'n_jobs': -1, 'penalty': 'l1'}\n",
      "0.89143583587 {'alpha': 0.01, 'loss': 'log', 'n_jobs': -1, 'penalty': 'elasticnet'}\n"
     ]
    }
   ],
   "source": [
    "cvres = grid_search_sgd.cv_results_\n",
    "for mean_score, params in zip(cvres[\"mean_test_score\"], cvres[\"params\"]):\n",
    "    print(mean_score, params)"
   ]
  },
  {
   "cell_type": "code",
   "execution_count": 18,
   "metadata": {},
   "outputs": [
    {
     "data": {
      "text/plain": [
       "{'alpha': 0.01, 'loss': 'log', 'n_jobs': -1, 'penalty': 'l1'}"
      ]
     },
     "execution_count": 18,
     "metadata": {},
     "output_type": "execute_result"
    }
   ],
   "source": [
    "grid_search_sgd.best_params_"
   ]
  },
  {
   "cell_type": "markdown",
   "metadata": {},
   "source": [
    "RF"
   ]
  },
  {
   "cell_type": "code",
   "execution_count": 19,
   "metadata": {},
   "outputs": [
    {
     "name": "stdout",
     "output_type": "stream",
     "text": [
      "Fitting 3 folds for each of 16 candidates, totalling 48 fits\n",
      "[CV] max_depth=30, max_features=5, min_samples_leaf=1, n_estimators=80, n_jobs=-1 \n",
      "[CV] max_depth=30, max_features=5, min_samples_leaf=1, n_estimators=80, n_jobs=-1 \n",
      "[CV] max_depth=30, max_features=5, min_samples_leaf=1, n_estimators=80, n_jobs=-1 \n",
      "[CV] max_depth=30, max_features=5, min_samples_leaf=1, n_estimators=300, n_jobs=-1 \n",
      "[CV] max_depth=30, max_features=5, min_samples_leaf=1, n_estimators=300, n_jobs=-1 \n",
      "[CV] max_depth=30, max_features=5, min_samples_leaf=1, n_estimators=300, n_jobs=-1 \n",
      "[CV] max_depth=30, max_features=5, min_samples_leaf=10, n_estimators=80, n_jobs=-1 \n",
      "[CV] max_depth=30, max_features=5, min_samples_leaf=10, n_estimators=80, n_jobs=-1 \n",
      "[CV]  max_depth=30, max_features=5, min_samples_leaf=1, n_estimators=80, n_jobs=-1, total= 9.5min\n",
      "[CV] max_depth=30, max_features=5, min_samples_leaf=10, n_estimators=80, n_jobs=-1 \n",
      "[CV]  max_depth=30, max_features=5, min_samples_leaf=10, n_estimators=80, n_jobs=-1, total= 9.5min\n",
      "[CV] max_depth=30, max_features=5, min_samples_leaf=10, n_estimators=300, n_jobs=-1 \n",
      "[CV]  max_depth=30, max_features=5, min_samples_leaf=10, n_estimators=80, n_jobs=-1, total= 9.7min\n",
      "[CV] max_depth=30, max_features=5, min_samples_leaf=10, n_estimators=300, n_jobs=-1 \n",
      "[CV]  max_depth=30, max_features=5, min_samples_leaf=1, n_estimators=80, n_jobs=-1, total= 9.8min\n",
      "[CV] max_depth=30, max_features=5, min_samples_leaf=10, n_estimators=300, n_jobs=-1 \n",
      "[CV]  max_depth=30, max_features=5, min_samples_leaf=1, n_estimators=80, n_jobs=-1, total= 9.9min\n",
      "[CV] max_depth=30, max_features=10, min_samples_leaf=1, n_estimators=80, n_jobs=-1 \n",
      "[CV]  max_depth=30, max_features=5, min_samples_leaf=10, n_estimators=80, n_jobs=-1, total= 9.3min\n",
      "[CV] max_depth=30, max_features=10, min_samples_leaf=1, n_estimators=80, n_jobs=-1 \n",
      "[CV]  max_depth=30, max_features=10, min_samples_leaf=1, n_estimators=80, n_jobs=-1, total=16.0min\n",
      "[CV] max_depth=30, max_features=10, min_samples_leaf=1, n_estimators=80, n_jobs=-1 \n",
      "[CV]  max_depth=30, max_features=5, min_samples_leaf=1, n_estimators=300, n_jobs=-1, total=33.5min\n",
      "[CV] max_depth=30, max_features=10, min_samples_leaf=1, n_estimators=300, n_jobs=-1 \n",
      "[CV]  max_depth=30, max_features=10, min_samples_leaf=1, n_estimators=80, n_jobs=-1, total=14.9min\n",
      "[CV] max_depth=30, max_features=10, min_samples_leaf=1, n_estimators=300, n_jobs=-1 \n",
      "[CV]  max_depth=30, max_features=5, min_samples_leaf=1, n_estimators=300, n_jobs=-1, total=34.5min\n",
      "[CV] max_depth=30, max_features=10, min_samples_leaf=1, n_estimators=300, n_jobs=-1 \n",
      "[CV]  max_depth=30, max_features=5, min_samples_leaf=1, n_estimators=300, n_jobs=-1, total=34.6min\n",
      "[CV] max_depth=30, max_features=10, min_samples_leaf=10, n_estimators=80, n_jobs=-1 \n",
      "[CV]  max_depth=30, max_features=10, min_samples_leaf=1, n_estimators=80, n_jobs=-1, total=15.5min\n",
      "[CV] max_depth=30, max_features=10, min_samples_leaf=10, n_estimators=80, n_jobs=-1 \n",
      "[CV]  max_depth=30, max_features=5, min_samples_leaf=10, n_estimators=300, n_jobs=-1, total=31.7min\n",
      "[CV] max_depth=30, max_features=10, min_samples_leaf=10, n_estimators=80, n_jobs=-1 \n",
      "[CV]  max_depth=30, max_features=5, min_samples_leaf=10, n_estimators=300, n_jobs=-1, total=32.4min\n",
      "[CV] max_depth=30, max_features=10, min_samples_leaf=10, n_estimators=300, n_jobs=-1 \n",
      "[CV]  max_depth=30, max_features=5, min_samples_leaf=10, n_estimators=300, n_jobs=-1, total=32.3min\n",
      "[CV] max_depth=30, max_features=10, min_samples_leaf=10, n_estimators=300, n_jobs=-1 \n",
      "[CV]  max_depth=30, max_features=10, min_samples_leaf=10, n_estimators=80, n_jobs=-1, total=16.0min\n",
      "[CV] max_depth=30, max_features=10, min_samples_leaf=10, n_estimators=300, n_jobs=-1 \n",
      "[CV]  max_depth=30, max_features=10, min_samples_leaf=10, n_estimators=80, n_jobs=-1, total=16.5min\n",
      "[CV] max_depth=60, max_features=5, min_samples_leaf=1, n_estimators=80, n_jobs=-1 \n",
      "[CV]  max_depth=30, max_features=10, min_samples_leaf=10, n_estimators=80, n_jobs=-1, total=17.1min\n",
      "[CV] max_depth=60, max_features=5, min_samples_leaf=1, n_estimators=80, n_jobs=-1 \n",
      "[CV]  max_depth=60, max_features=5, min_samples_leaf=1, n_estimators=80, n_jobs=-1, total= 9.1min\n",
      "[CV] max_depth=60, max_features=5, min_samples_leaf=1, n_estimators=80, n_jobs=-1 \n",
      "[CV]  max_depth=60, max_features=5, min_samples_leaf=1, n_estimators=80, n_jobs=-1, total=10.0min\n",
      "[CV] max_depth=60, max_features=5, min_samples_leaf=1, n_estimators=300, n_jobs=-1 \n",
      "[CV]  max_depth=60, max_features=5, min_samples_leaf=1, n_estimators=80, n_jobs=-1, total= 9.2min\n",
      "[CV] max_depth=60, max_features=5, min_samples_leaf=1, n_estimators=300, n_jobs=-1 \n",
      "[CV]  max_depth=30, max_features=10, min_samples_leaf=1, n_estimators=300, n_jobs=-1, total=57.0min\n",
      "[CV] max_depth=60, max_features=5, min_samples_leaf=1, n_estimators=300, n_jobs=-1 \n",
      "[CV]  max_depth=30, max_features=10, min_samples_leaf=1, n_estimators=300, n_jobs=-1, total=60.0min\n",
      "[CV] max_depth=60, max_features=5, min_samples_leaf=10, n_estimators=80, n_jobs=-1 \n",
      "[CV]  max_depth=30, max_features=10, min_samples_leaf=1, n_estimators=300, n_jobs=-1, total=61.4min\n",
      "[CV] max_depth=60, max_features=5, min_samples_leaf=10, n_estimators=80, n_jobs=-1 \n",
      "[CV]  max_depth=30, max_features=10, min_samples_leaf=10, n_estimators=300, n_jobs=-1, total=56.3min\n"
     ]
    },
    {
     "name": "stderr",
     "output_type": "stream",
     "text": [
      "[Parallel(n_jobs=-1)]: Done  25 tasks      | elapsed: 100.0min\n"
     ]
    },
    {
     "name": "stdout",
     "output_type": "stream",
     "text": [
      "[CV] max_depth=60, max_features=5, min_samples_leaf=10, n_estimators=80, n_jobs=-1 \n",
      "[CV]  max_depth=30, max_features=10, min_samples_leaf=10, n_estimators=300, n_jobs=-1, total=57.6min\n",
      "[CV] max_depth=60, max_features=5, min_samples_leaf=10, n_estimators=300, n_jobs=-1 \n",
      "[CV]  max_depth=60, max_features=5, min_samples_leaf=1, n_estimators=300, n_jobs=-1, total=33.0min\n",
      "[CV] max_depth=60, max_features=5, min_samples_leaf=10, n_estimators=300, n_jobs=-1 \n",
      "[CV]  max_depth=60, max_features=5, min_samples_leaf=10, n_estimators=80, n_jobs=-1, total= 8.5min\n",
      "[CV] max_depth=60, max_features=5, min_samples_leaf=10, n_estimators=300, n_jobs=-1 \n",
      "[CV]  max_depth=60, max_features=5, min_samples_leaf=10, n_estimators=80, n_jobs=-1, total= 8.3min\n",
      "[CV] max_depth=60, max_features=10, min_samples_leaf=1, n_estimators=80, n_jobs=-1 \n",
      "[CV]  max_depth=60, max_features=5, min_samples_leaf=10, n_estimators=80, n_jobs=-1, total= 8.6min\n",
      "[CV] max_depth=60, max_features=10, min_samples_leaf=1, n_estimators=80, n_jobs=-1 \n",
      "[CV]  max_depth=30, max_features=10, min_samples_leaf=10, n_estimators=300, n_jobs=-1, total=57.8min\n",
      "[CV] max_depth=60, max_features=10, min_samples_leaf=1, n_estimators=80, n_jobs=-1 \n",
      "[CV]  max_depth=60, max_features=5, min_samples_leaf=1, n_estimators=300, n_jobs=-1, total=31.3min\n",
      "[CV] max_depth=60, max_features=10, min_samples_leaf=1, n_estimators=300, n_jobs=-1 \n",
      "[CV]  max_depth=60, max_features=10, min_samples_leaf=1, n_estimators=80, n_jobs=-1, total=15.6min\n",
      "[CV] max_depth=60, max_features=10, min_samples_leaf=1, n_estimators=300, n_jobs=-1 \n",
      "[CV]  max_depth=60, max_features=10, min_samples_leaf=1, n_estimators=80, n_jobs=-1, total=14.8min\n",
      "[CV] max_depth=60, max_features=10, min_samples_leaf=1, n_estimators=300, n_jobs=-1 \n",
      "[CV]  max_depth=60, max_features=5, min_samples_leaf=1, n_estimators=300, n_jobs=-1, total=32.4min\n",
      "[CV] max_depth=60, max_features=10, min_samples_leaf=10, n_estimators=80, n_jobs=-1 \n",
      "[CV]  max_depth=60, max_features=10, min_samples_leaf=1, n_estimators=80, n_jobs=-1, total=15.8min\n",
      "[CV] max_depth=60, max_features=10, min_samples_leaf=10, n_estimators=80, n_jobs=-1 \n",
      "[CV]  max_depth=60, max_features=5, min_samples_leaf=10, n_estimators=300, n_jobs=-1, total=32.0min\n",
      "[CV] max_depth=60, max_features=10, min_samples_leaf=10, n_estimators=80, n_jobs=-1 \n",
      "[CV]  max_depth=60, max_features=5, min_samples_leaf=10, n_estimators=300, n_jobs=-1, total=31.1min\n",
      "[CV] max_depth=60, max_features=10, min_samples_leaf=10, n_estimators=300, n_jobs=-1 \n",
      "[CV]  max_depth=60, max_features=5, min_samples_leaf=10, n_estimators=300, n_jobs=-1, total=31.6min\n",
      "[CV] max_depth=60, max_features=10, min_samples_leaf=10, n_estimators=300, n_jobs=-1 \n",
      "[CV]  max_depth=60, max_features=10, min_samples_leaf=10, n_estimators=80, n_jobs=-1, total=15.1min\n",
      "[CV] max_depth=60, max_features=10, min_samples_leaf=10, n_estimators=300, n_jobs=-1 \n",
      "[CV]  max_depth=60, max_features=10, min_samples_leaf=10, n_estimators=80, n_jobs=-1, total=14.5min\n",
      "[CV]  max_depth=60, max_features=10, min_samples_leaf=10, n_estimators=80, n_jobs=-1, total=14.2min\n",
      "[CV]  max_depth=60, max_features=10, min_samples_leaf=1, n_estimators=300, n_jobs=-1, total=52.1min\n",
      "[CV]  max_depth=60, max_features=10, min_samples_leaf=1, n_estimators=300, n_jobs=-1, total=45.7min\n",
      "[CV]  max_depth=60, max_features=10, min_samples_leaf=1, n_estimators=300, n_jobs=-1, total=46.5min\n",
      "[CV]  max_depth=60, max_features=10, min_samples_leaf=10, n_estimators=300, n_jobs=-1, total=37.3min\n",
      "[CV]  max_depth=60, max_features=10, min_samples_leaf=10, n_estimators=300, n_jobs=-1, total=38.5min\n",
      "[CV]  max_depth=60, max_features=10, min_samples_leaf=10, n_estimators=300, n_jobs=-1, total=33.4min\n"
     ]
    },
    {
     "name": "stderr",
     "output_type": "stream",
     "text": [
      "[Parallel(n_jobs=-1)]: Done  48 out of  48 | elapsed: 174.1min finished\n"
     ]
    },
    {
     "data": {
      "text/plain": [
       "GridSearchCV(cv=3, error_score='raise',\n",
       "       estimator=RandomForestClassifier(bootstrap=True, class_weight=None, criterion='gini',\n",
       "            max_depth=None, max_features='auto', max_leaf_nodes=None,\n",
       "            min_impurity_decrease=0.0, min_impurity_split=None,\n",
       "            min_samples_leaf=1, min_samples_split=2,\n",
       "            min_weight_fraction_leaf=0.0, n_estimators=10, n_jobs=1,\n",
       "            oob_score=False, random_state=None, verbose=0,\n",
       "            warm_start=False),\n",
       "       fit_params=None, iid=True, n_jobs=-1,\n",
       "       param_grid=[{'max_depth': [30, 60], 'n_estimators': [80, 300], 'max_features': [5, 10], 'min_samples_leaf': [1, 10], 'n_jobs': [-1]}],\n",
       "       pre_dispatch='2*n_jobs', refit=True, return_train_score='warn',\n",
       "       scoring='roc_auc', verbose=2)"
      ]
     },
     "execution_count": 19,
     "metadata": {},
     "output_type": "execute_result"
    }
   ],
   "source": [
    "param_grid = [{'max_depth': [ 30, 60], \n",
    "               'n_estimators': [ 80, 300],\n",
    "               'max_features': [5, 10],\n",
    "               'min_samples_leaf': [1, 10],\n",
    "               'n_jobs': [-1]}]\n",
    "\n",
    "forest_clf = RandomForestClassifier()\n",
    "grid_search_rf = GridSearchCV(forest_clf, param_grid, cv=3, scoring='roc_auc', verbose=2, n_jobs=-1)\n",
    "grid_search_rf.fit(X_train, y_train)"
   ]
  },
  {
   "cell_type": "code",
   "execution_count": 21,
   "metadata": {},
   "outputs": [
    {
     "name": "stdout",
     "output_type": "stream",
     "text": [
      "0.708002393665 {'max_depth': 30, 'max_features': 5, 'min_samples_leaf': 1, 'n_estimators': 80, 'n_jobs': -1}\n",
      "0.714765088057 {'max_depth': 30, 'max_features': 5, 'min_samples_leaf': 1, 'n_estimators': 300, 'n_jobs': -1}\n",
      "0.937627623837 {'max_depth': 30, 'max_features': 5, 'min_samples_leaf': 10, 'n_estimators': 80, 'n_jobs': -1}\n",
      "0.945788915445 {'max_depth': 30, 'max_features': 5, 'min_samples_leaf': 10, 'n_estimators': 300, 'n_jobs': -1}\n",
      "0.530207133027 {'max_depth': 30, 'max_features': 10, 'min_samples_leaf': 1, 'n_estimators': 80, 'n_jobs': -1}\n",
      "0.515573709739 {'max_depth': 30, 'max_features': 10, 'min_samples_leaf': 1, 'n_estimators': 300, 'n_jobs': -1}\n",
      "0.922575571532 {'max_depth': 30, 'max_features': 10, 'min_samples_leaf': 10, 'n_estimators': 80, 'n_jobs': -1}\n",
      "0.923008420873 {'max_depth': 30, 'max_features': 10, 'min_samples_leaf': 10, 'n_estimators': 300, 'n_jobs': -1}\n",
      "0.708607392248 {'max_depth': 60, 'max_features': 5, 'min_samples_leaf': 1, 'n_estimators': 80, 'n_jobs': -1}\n",
      "0.71781940732 {'max_depth': 60, 'max_features': 5, 'min_samples_leaf': 1, 'n_estimators': 300, 'n_jobs': -1}\n",
      "0.951655133022 {'max_depth': 60, 'max_features': 5, 'min_samples_leaf': 10, 'n_estimators': 80, 'n_jobs': -1}\n",
      "0.945477739319 {'max_depth': 60, 'max_features': 5, 'min_samples_leaf': 10, 'n_estimators': 300, 'n_jobs': -1}\n",
      "0.512586890991 {'max_depth': 60, 'max_features': 10, 'min_samples_leaf': 1, 'n_estimators': 80, 'n_jobs': -1}\n",
      "0.506520813335 {'max_depth': 60, 'max_features': 10, 'min_samples_leaf': 1, 'n_estimators': 300, 'n_jobs': -1}\n",
      "0.936420374675 {'max_depth': 60, 'max_features': 10, 'min_samples_leaf': 10, 'n_estimators': 80, 'n_jobs': -1}\n",
      "0.932680155267 {'max_depth': 60, 'max_features': 10, 'min_samples_leaf': 10, 'n_estimators': 300, 'n_jobs': -1}\n"
     ]
    }
   ],
   "source": [
    "cvres = grid_search_rf.cv_results_\n",
    "for mean_score, params in zip(cvres[\"mean_test_score\"], cvres[\"params\"]):\n",
    "    print(mean_score, params)"
   ]
  },
  {
   "cell_type": "code",
   "execution_count": 22,
   "metadata": {},
   "outputs": [
    {
     "data": {
      "text/plain": [
       "{'max_depth': 60,\n",
       " 'max_features': 5,\n",
       " 'min_samples_leaf': 10,\n",
       " 'n_estimators': 80,\n",
       " 'n_jobs': -1}"
      ]
     },
     "execution_count": 22,
     "metadata": {},
     "output_type": "execute_result"
    }
   ],
   "source": [
    "grid_search_rf.best_params_"
   ]
  },
  {
   "cell_type": "markdown",
   "metadata": {},
   "source": [
    "### CV 3 vs CV 10"
   ]
  },
  {
   "cell_type": "code",
   "execution_count": 29,
   "metadata": {
    "collapsed": true
   },
   "outputs": [],
   "source": [
    "models = {\n",
    "    \"Random Forests\": RandomForestClassifier(max_depth=60,max_features= 5,\\\n",
    "                                             min_samples_leaf= 10,n_estimators= 80,n_jobs= -1)    \n",
    "}"
   ]
  },
  {
   "cell_type": "code",
   "execution_count": 30,
   "metadata": {},
   "outputs": [
    {
     "name": "stdout",
     "output_type": "stream",
     "text": [
      "CPU times: user 1h 58min 11s, sys: 8.34 s, total: 1h 58min 19s\n",
      "Wall time: 17min 19s\n",
      "Random Forests\n",
      "CV accuracy: 0.981 +/- 0.003\n",
      "----------------\n"
     ]
    }
   ],
   "source": [
    "results = []\n",
    "names = []\n",
    "\n",
    "for k, v in models.items():\n",
    "    %time cv_scores = cross_val_score(estimator=v, X=X_train, y=y_train, cv=10, n_jobs=1, scoring='roc_auc')\n",
    "    \n",
    "    results.append(cv_scores)\n",
    "    names.append(k)\n",
    "\n",
    "    print(k)\n",
    "    print('CV accuracy: %.3f +/- %.3f' % (np.mean(cv_scores), np.std(cv_scores)))\n",
    "    print('----------------')"
   ]
  },
  {
   "cell_type": "code",
   "execution_count": 31,
   "metadata": {},
   "outputs": [
    {
     "name": "stdout",
     "output_type": "stream",
     "text": [
      "CPU times: user 24min 55s, sys: 1.64 s, total: 24min 56s\n",
      "Wall time: 3min 41s\n",
      "Random Forests\n",
      "CV accuracy: 0.946 +/- 0.039\n",
      "----------------\n"
     ]
    }
   ],
   "source": [
    "results = []\n",
    "names = []\n",
    "\n",
    "for k, v in models.items():\n",
    "    %time cv_scores = cross_val_score(estimator=v, X=X_train, y=y_train, cv=3, n_jobs=1, scoring='roc_auc')\n",
    "    \n",
    "    results.append(cv_scores)\n",
    "    names.append(k)\n",
    "\n",
    "    print(k)\n",
    "    print('CV accuracy: %.3f +/- %.3f' % (np.mean(cv_scores), np.std(cv_scores)))\n",
    "    print('----------------')"
   ]
  },
  {
   "cell_type": "markdown",
   "metadata": {},
   "source": [
    "## Train"
   ]
  },
  {
   "cell_type": "code",
   "execution_count": 3,
   "metadata": {},
   "outputs": [
    {
     "name": "stdout",
     "output_type": "stream",
     "text": [
      "CPU times: user 21min 20s, sys: 5min 31s, total: 26min 51s\n",
      "Wall time: 1h 10min 2s\n",
      "CPU times: user 5min 3s, sys: 5.62 s, total: 5min 9s\n",
      "Wall time: 5min 28s\n"
     ]
    }
   ],
   "source": [
    "%time X_train = np.loadtxt(open(\"./data/processed/train.csv\", \"rb\"), delimiter=\",\", \\\n",
    "                     usecols=(0,1,2,3,4,7,8,9,10,11), skiprows=100000000)\n",
    "%time y_train = np.loadtxt(open(\"./data/processed/train.csv\", \"rb\"), delimiter=\",\", usecols=(6), skiprows=100000000)"
   ]
  },
  {
   "cell_type": "code",
   "execution_count": 4,
   "metadata": {},
   "outputs": [
    {
     "ename": "KeyboardInterrupt",
     "evalue": "",
     "output_type": "error",
     "traceback": [
      "\u001b[0;31m---------------------------------------------------------------------------\u001b[0m",
      "\u001b[0;31mKeyboardInterrupt\u001b[0m                         Traceback (most recent call last)",
      "\u001b[0;32m<timed eval>\u001b[0m in \u001b[0;36m<module>\u001b[0;34m()\u001b[0m\n",
      "\u001b[0;32m~/anaconda3/lib/python3.6/site-packages/sklearn/ensemble/forest.py\u001b[0m in \u001b[0;36mfit\u001b[0;34m(self, X, y, sample_weight)\u001b[0m\n\u001b[1;32m    326\u001b[0m                     \u001b[0mt\u001b[0m\u001b[0;34m,\u001b[0m \u001b[0mself\u001b[0m\u001b[0;34m,\u001b[0m \u001b[0mX\u001b[0m\u001b[0;34m,\u001b[0m \u001b[0my\u001b[0m\u001b[0;34m,\u001b[0m \u001b[0msample_weight\u001b[0m\u001b[0;34m,\u001b[0m \u001b[0mi\u001b[0m\u001b[0;34m,\u001b[0m \u001b[0mlen\u001b[0m\u001b[0;34m(\u001b[0m\u001b[0mtrees\u001b[0m\u001b[0;34m)\u001b[0m\u001b[0;34m,\u001b[0m\u001b[0;34m\u001b[0m\u001b[0m\n\u001b[1;32m    327\u001b[0m                     verbose=self.verbose, class_weight=self.class_weight)\n\u001b[0;32m--> 328\u001b[0;31m                 for i, t in enumerate(trees))\n\u001b[0m\u001b[1;32m    329\u001b[0m \u001b[0;34m\u001b[0m\u001b[0m\n\u001b[1;32m    330\u001b[0m             \u001b[0;31m# Collect newly grown trees\u001b[0m\u001b[0;34m\u001b[0m\u001b[0;34m\u001b[0m\u001b[0m\n",
      "\u001b[0;32m~/anaconda3/lib/python3.6/site-packages/sklearn/externals/joblib/parallel.py\u001b[0m in \u001b[0;36m__call__\u001b[0;34m(self, iterable)\u001b[0m\n\u001b[1;32m    787\u001b[0m                 \u001b[0;31m# consumption.\u001b[0m\u001b[0;34m\u001b[0m\u001b[0;34m\u001b[0m\u001b[0m\n\u001b[1;32m    788\u001b[0m                 \u001b[0mself\u001b[0m\u001b[0;34m.\u001b[0m\u001b[0m_iterating\u001b[0m \u001b[0;34m=\u001b[0m \u001b[0;32mFalse\u001b[0m\u001b[0;34m\u001b[0m\u001b[0m\n\u001b[0;32m--> 789\u001b[0;31m             \u001b[0mself\u001b[0m\u001b[0;34m.\u001b[0m\u001b[0mretrieve\u001b[0m\u001b[0;34m(\u001b[0m\u001b[0;34m)\u001b[0m\u001b[0;34m\u001b[0m\u001b[0m\n\u001b[0m\u001b[1;32m    790\u001b[0m             \u001b[0;31m# Make sure that we get a last message telling us we are done\u001b[0m\u001b[0;34m\u001b[0m\u001b[0;34m\u001b[0m\u001b[0m\n\u001b[1;32m    791\u001b[0m             \u001b[0melapsed_time\u001b[0m \u001b[0;34m=\u001b[0m \u001b[0mtime\u001b[0m\u001b[0;34m.\u001b[0m\u001b[0mtime\u001b[0m\u001b[0;34m(\u001b[0m\u001b[0;34m)\u001b[0m \u001b[0;34m-\u001b[0m \u001b[0mself\u001b[0m\u001b[0;34m.\u001b[0m\u001b[0m_start_time\u001b[0m\u001b[0;34m\u001b[0m\u001b[0m\n",
      "\u001b[0;32m~/anaconda3/lib/python3.6/site-packages/sklearn/externals/joblib/parallel.py\u001b[0m in \u001b[0;36mretrieve\u001b[0;34m(self)\u001b[0m\n\u001b[1;32m    697\u001b[0m             \u001b[0;32mtry\u001b[0m\u001b[0;34m:\u001b[0m\u001b[0;34m\u001b[0m\u001b[0m\n\u001b[1;32m    698\u001b[0m                 \u001b[0;32mif\u001b[0m \u001b[0mgetattr\u001b[0m\u001b[0;34m(\u001b[0m\u001b[0mself\u001b[0m\u001b[0;34m.\u001b[0m\u001b[0m_backend\u001b[0m\u001b[0;34m,\u001b[0m \u001b[0;34m'supports_timeout'\u001b[0m\u001b[0;34m,\u001b[0m \u001b[0;32mFalse\u001b[0m\u001b[0;34m)\u001b[0m\u001b[0;34m:\u001b[0m\u001b[0;34m\u001b[0m\u001b[0m\n\u001b[0;32m--> 699\u001b[0;31m                     \u001b[0mself\u001b[0m\u001b[0;34m.\u001b[0m\u001b[0m_output\u001b[0m\u001b[0;34m.\u001b[0m\u001b[0mextend\u001b[0m\u001b[0;34m(\u001b[0m\u001b[0mjob\u001b[0m\u001b[0;34m.\u001b[0m\u001b[0mget\u001b[0m\u001b[0;34m(\u001b[0m\u001b[0mtimeout\u001b[0m\u001b[0;34m=\u001b[0m\u001b[0mself\u001b[0m\u001b[0;34m.\u001b[0m\u001b[0mtimeout\u001b[0m\u001b[0;34m)\u001b[0m\u001b[0;34m)\u001b[0m\u001b[0;34m\u001b[0m\u001b[0m\n\u001b[0m\u001b[1;32m    700\u001b[0m                 \u001b[0;32melse\u001b[0m\u001b[0;34m:\u001b[0m\u001b[0;34m\u001b[0m\u001b[0m\n\u001b[1;32m    701\u001b[0m                     \u001b[0mself\u001b[0m\u001b[0;34m.\u001b[0m\u001b[0m_output\u001b[0m\u001b[0;34m.\u001b[0m\u001b[0mextend\u001b[0m\u001b[0;34m(\u001b[0m\u001b[0mjob\u001b[0m\u001b[0;34m.\u001b[0m\u001b[0mget\u001b[0m\u001b[0;34m(\u001b[0m\u001b[0;34m)\u001b[0m\u001b[0;34m)\u001b[0m\u001b[0;34m\u001b[0m\u001b[0m\n",
      "\u001b[0;32m~/anaconda3/lib/python3.6/multiprocessing/pool.py\u001b[0m in \u001b[0;36mget\u001b[0;34m(self, timeout)\u001b[0m\n\u001b[1;32m    600\u001b[0m \u001b[0;34m\u001b[0m\u001b[0m\n\u001b[1;32m    601\u001b[0m     \u001b[0;32mdef\u001b[0m \u001b[0mget\u001b[0m\u001b[0;34m(\u001b[0m\u001b[0mself\u001b[0m\u001b[0;34m,\u001b[0m \u001b[0mtimeout\u001b[0m\u001b[0;34m=\u001b[0m\u001b[0;32mNone\u001b[0m\u001b[0;34m)\u001b[0m\u001b[0;34m:\u001b[0m\u001b[0;34m\u001b[0m\u001b[0m\n\u001b[0;32m--> 602\u001b[0;31m         \u001b[0mself\u001b[0m\u001b[0;34m.\u001b[0m\u001b[0mwait\u001b[0m\u001b[0;34m(\u001b[0m\u001b[0mtimeout\u001b[0m\u001b[0;34m)\u001b[0m\u001b[0;34m\u001b[0m\u001b[0m\n\u001b[0m\u001b[1;32m    603\u001b[0m         \u001b[0;32mif\u001b[0m \u001b[0;32mnot\u001b[0m \u001b[0mself\u001b[0m\u001b[0;34m.\u001b[0m\u001b[0mready\u001b[0m\u001b[0;34m(\u001b[0m\u001b[0;34m)\u001b[0m\u001b[0;34m:\u001b[0m\u001b[0;34m\u001b[0m\u001b[0m\n\u001b[1;32m    604\u001b[0m             \u001b[0;32mraise\u001b[0m \u001b[0mTimeoutError\u001b[0m\u001b[0;34m\u001b[0m\u001b[0m\n",
      "\u001b[0;32m~/anaconda3/lib/python3.6/multiprocessing/pool.py\u001b[0m in \u001b[0;36mwait\u001b[0;34m(self, timeout)\u001b[0m\n\u001b[1;32m    597\u001b[0m \u001b[0;34m\u001b[0m\u001b[0m\n\u001b[1;32m    598\u001b[0m     \u001b[0;32mdef\u001b[0m \u001b[0mwait\u001b[0m\u001b[0;34m(\u001b[0m\u001b[0mself\u001b[0m\u001b[0;34m,\u001b[0m \u001b[0mtimeout\u001b[0m\u001b[0;34m=\u001b[0m\u001b[0;32mNone\u001b[0m\u001b[0;34m)\u001b[0m\u001b[0;34m:\u001b[0m\u001b[0;34m\u001b[0m\u001b[0m\n\u001b[0;32m--> 599\u001b[0;31m         \u001b[0mself\u001b[0m\u001b[0;34m.\u001b[0m\u001b[0m_event\u001b[0m\u001b[0;34m.\u001b[0m\u001b[0mwait\u001b[0m\u001b[0;34m(\u001b[0m\u001b[0mtimeout\u001b[0m\u001b[0;34m)\u001b[0m\u001b[0;34m\u001b[0m\u001b[0m\n\u001b[0m\u001b[1;32m    600\u001b[0m \u001b[0;34m\u001b[0m\u001b[0m\n\u001b[1;32m    601\u001b[0m     \u001b[0;32mdef\u001b[0m \u001b[0mget\u001b[0m\u001b[0;34m(\u001b[0m\u001b[0mself\u001b[0m\u001b[0;34m,\u001b[0m \u001b[0mtimeout\u001b[0m\u001b[0;34m=\u001b[0m\u001b[0;32mNone\u001b[0m\u001b[0;34m)\u001b[0m\u001b[0;34m:\u001b[0m\u001b[0;34m\u001b[0m\u001b[0m\n",
      "\u001b[0;32m~/anaconda3/lib/python3.6/threading.py\u001b[0m in \u001b[0;36mwait\u001b[0;34m(self, timeout)\u001b[0m\n\u001b[1;32m    549\u001b[0m             \u001b[0msignaled\u001b[0m \u001b[0;34m=\u001b[0m \u001b[0mself\u001b[0m\u001b[0;34m.\u001b[0m\u001b[0m_flag\u001b[0m\u001b[0;34m\u001b[0m\u001b[0m\n\u001b[1;32m    550\u001b[0m             \u001b[0;32mif\u001b[0m \u001b[0;32mnot\u001b[0m \u001b[0msignaled\u001b[0m\u001b[0;34m:\u001b[0m\u001b[0;34m\u001b[0m\u001b[0m\n\u001b[0;32m--> 551\u001b[0;31m                 \u001b[0msignaled\u001b[0m \u001b[0;34m=\u001b[0m \u001b[0mself\u001b[0m\u001b[0;34m.\u001b[0m\u001b[0m_cond\u001b[0m\u001b[0;34m.\u001b[0m\u001b[0mwait\u001b[0m\u001b[0;34m(\u001b[0m\u001b[0mtimeout\u001b[0m\u001b[0;34m)\u001b[0m\u001b[0;34m\u001b[0m\u001b[0m\n\u001b[0m\u001b[1;32m    552\u001b[0m             \u001b[0;32mreturn\u001b[0m \u001b[0msignaled\u001b[0m\u001b[0;34m\u001b[0m\u001b[0m\n\u001b[1;32m    553\u001b[0m \u001b[0;34m\u001b[0m\u001b[0m\n",
      "\u001b[0;32m~/anaconda3/lib/python3.6/threading.py\u001b[0m in \u001b[0;36mwait\u001b[0;34m(self, timeout)\u001b[0m\n\u001b[1;32m    293\u001b[0m         \u001b[0;32mtry\u001b[0m\u001b[0;34m:\u001b[0m    \u001b[0;31m# restore state no matter what (e.g., KeyboardInterrupt)\u001b[0m\u001b[0;34m\u001b[0m\u001b[0m\n\u001b[1;32m    294\u001b[0m             \u001b[0;32mif\u001b[0m \u001b[0mtimeout\u001b[0m \u001b[0;32mis\u001b[0m \u001b[0;32mNone\u001b[0m\u001b[0;34m:\u001b[0m\u001b[0;34m\u001b[0m\u001b[0m\n\u001b[0;32m--> 295\u001b[0;31m                 \u001b[0mwaiter\u001b[0m\u001b[0;34m.\u001b[0m\u001b[0macquire\u001b[0m\u001b[0;34m(\u001b[0m\u001b[0;34m)\u001b[0m\u001b[0;34m\u001b[0m\u001b[0m\n\u001b[0m\u001b[1;32m    296\u001b[0m                 \u001b[0mgotit\u001b[0m \u001b[0;34m=\u001b[0m \u001b[0;32mTrue\u001b[0m\u001b[0;34m\u001b[0m\u001b[0m\n\u001b[1;32m    297\u001b[0m             \u001b[0;32melse\u001b[0m\u001b[0;34m:\u001b[0m\u001b[0;34m\u001b[0m\u001b[0m\n",
      "\u001b[0;31mKeyboardInterrupt\u001b[0m: "
     ]
    }
   ],
   "source": [
    "rf = RandomForestClassifier(max_depth=60,max_features= 5,min_samples_leaf= 10,n_estimators= 80,n_jobs= -1)\n",
    "%time rf.fit(X_train, y_train)"
   ]
  },
  {
   "cell_type": "markdown",
   "metadata": {},
   "source": [
    "## Test"
   ]
  },
  {
   "cell_type": "code",
   "execution_count": null,
   "metadata": {
    "collapsed": true
   },
   "outputs": [],
   "source": [
    "X_test = np.loadtxt(open(\"./data/processed/test.csv\", \"rb\"), delimiter=\",\", \\\n",
    "                     usecols=(1,2,3,4,5,7,8,9,10,11), skiprows=1)"
   ]
  },
  {
   "cell_type": "code",
   "execution_count": null,
   "metadata": {
    "collapsed": true
   },
   "outputs": [],
   "source": [
    "SubmissionFormat = pd.read_csv('../data/raw/sample_submission.csv')"
   ]
  },
  {
   "cell_type": "code",
   "execution_count": null,
   "metadata": {
    "collapsed": true
   },
   "outputs": [],
   "source": [
    "SubmissionFormat.head()"
   ]
  },
  {
   "cell_type": "code",
   "execution_count": null,
   "metadata": {
    "collapsed": true
   },
   "outputs": [],
   "source": [
    "preds = rf.predict(X_test)"
   ]
  },
  {
   "cell_type": "code",
   "execution_count": null,
   "metadata": {
    "collapsed": true
   },
   "outputs": [],
   "source": [
    "submission = pd.DataFrame({'click_id': SubmissionFormat[\"click_id\"],'is_attributed': preds})\n",
    "submission.to_csv('../data/predictions/RF_submission.csv', index=False)"
   ]
  },
  {
   "cell_type": "code",
   "execution_count": null,
   "metadata": {
    "collapsed": true
   },
   "outputs": [],
   "source": []
  }
 ],
 "metadata": {
  "kernelspec": {
   "display_name": "Python 3",
   "language": "python",
   "name": "python3"
  },
  "language_info": {
   "codemirror_mode": {
    "name": "ipython",
    "version": 3
   },
   "file_extension": ".py",
   "mimetype": "text/x-python",
   "name": "python",
   "nbconvert_exporter": "python",
   "pygments_lexer": "ipython3",
   "version": "3.6.1"
  }
 },
 "nbformat": 4,
 "nbformat_minor": 2
}
