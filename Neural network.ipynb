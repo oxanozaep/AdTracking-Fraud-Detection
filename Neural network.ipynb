{
 "cells": [
  {
   "cell_type": "code",
   "execution_count": 1,
   "metadata": {
    "collapsed": true
   },
   "outputs": [],
   "source": [
    "%matplotlib inline\n",
    "%reload_ext autoreload\n",
    "%autoreload 2"
   ]
  },
  {
   "cell_type": "code",
   "execution_count": 2,
   "metadata": {
    "collapsed": true
   },
   "outputs": [],
   "source": [
    "from fastai.structured import *\n",
    "from fastai.column_data import *\n",
    "from IPython.display import HTML\n",
    "\n",
    "np.set_printoptions(threshold=50, edgeitems=20)\n",
    "\n",
    "PATH='./data/processed/'"
   ]
  },
  {
   "cell_type": "code",
   "execution_count": 3,
   "metadata": {
    "collapsed": true
   },
   "outputs": [],
   "source": [
    "train = pd.read_csv('./data/processed/train.csv',parse_dates=['click_time'], nrows=100000)\n",
    "test = pd.read_csv('./data/processed/test.csv',parse_dates=['click_time'], nrows=10000)"
   ]
  },
  {
   "cell_type": "code",
   "execution_count": 4,
   "metadata": {},
   "outputs": [
    {
     "data": {
      "text/plain": [
       "(100000, 10000)"
      ]
     },
     "execution_count": 4,
     "metadata": {},
     "output_type": "execute_result"
    }
   ],
   "source": [
    "len(train),len(test)"
   ]
  },
  {
   "cell_type": "code",
   "execution_count": 5,
   "metadata": {},
   "outputs": [
    {
     "name": "stdout",
     "output_type": "stream",
     "text": [
      "<class 'pandas.core.frame.DataFrame'>\n",
      "RangeIndex: 100000 entries, 0 to 99999\n",
      "Data columns (total 12 columns):\n",
      "ip               100000 non-null int64\n",
      "app              100000 non-null int64\n",
      "device           100000 non-null int64\n",
      "os               100000 non-null int64\n",
      "channel          100000 non-null int64\n",
      "click_time       100000 non-null datetime64[ns]\n",
      "is_attributed    100000 non-null int64\n",
      "hour             100000 non-null int64\n",
      "ip_time_diff     100000 non-null float64\n",
      "all_time_diff    100000 non-null float64\n",
      "ip_count         100000 non-null int64\n",
      "all_count        100000 non-null int64\n",
      "dtypes: datetime64[ns](1), float64(2), int64(9)\n",
      "memory usage: 9.2 MB\n"
     ]
    }
   ],
   "source": [
    "train.info()"
   ]
  },
  {
   "cell_type": "code",
   "execution_count": 6,
   "metadata": {},
   "outputs": [
    {
     "data": {
      "text/html": [
       "<div>\n",
       "<style>\n",
       "    .dataframe thead tr:only-child th {\n",
       "        text-align: right;\n",
       "    }\n",
       "\n",
       "    .dataframe thead th {\n",
       "        text-align: left;\n",
       "    }\n",
       "\n",
       "    .dataframe tbody tr th {\n",
       "        vertical-align: top;\n",
       "    }\n",
       "</style>\n",
       "<table border=\"1\" class=\"dataframe\">\n",
       "  <thead>\n",
       "    <tr style=\"text-align: right;\">\n",
       "      <th></th>\n",
       "      <th>ip</th>\n",
       "      <th>app</th>\n",
       "      <th>device</th>\n",
       "      <th>os</th>\n",
       "      <th>channel</th>\n",
       "      <th>click_time</th>\n",
       "      <th>is_attributed</th>\n",
       "      <th>hour</th>\n",
       "      <th>ip_time_diff</th>\n",
       "      <th>all_time_diff</th>\n",
       "      <th>ip_count</th>\n",
       "      <th>all_count</th>\n",
       "    </tr>\n",
       "  </thead>\n",
       "  <tbody>\n",
       "    <tr>\n",
       "      <th>0</th>\n",
       "      <td>1</td>\n",
       "      <td>1</td>\n",
       "      <td>1</td>\n",
       "      <td>2</td>\n",
       "      <td>125</td>\n",
       "      <td>2017-11-09 14:34:10</td>\n",
       "      <td>0</td>\n",
       "      <td>14</td>\n",
       "      <td>1.0</td>\n",
       "      <td>-1.0</td>\n",
       "      <td>47</td>\n",
       "      <td>1</td>\n",
       "    </tr>\n",
       "    <tr>\n",
       "      <th>1</th>\n",
       "      <td>1</td>\n",
       "      <td>1</td>\n",
       "      <td>1</td>\n",
       "      <td>9</td>\n",
       "      <td>125</td>\n",
       "      <td>2017-11-09 03:01:54</td>\n",
       "      <td>0</td>\n",
       "      <td>3</td>\n",
       "      <td>0.0</td>\n",
       "      <td>44864.0</td>\n",
       "      <td>47</td>\n",
       "      <td>1</td>\n",
       "    </tr>\n",
       "    <tr>\n",
       "      <th>2</th>\n",
       "      <td>1</td>\n",
       "      <td>1</td>\n",
       "      <td>1</td>\n",
       "      <td>48</td>\n",
       "      <td>13</td>\n",
       "      <td>2017-11-09 10:42:11</td>\n",
       "      <td>0</td>\n",
       "      <td>10</td>\n",
       "      <td>465.0</td>\n",
       "      <td>-1.0</td>\n",
       "      <td>47</td>\n",
       "      <td>1</td>\n",
       "    </tr>\n",
       "    <tr>\n",
       "      <th>3</th>\n",
       "      <td>1</td>\n",
       "      <td>2</td>\n",
       "      <td>1</td>\n",
       "      <td>2</td>\n",
       "      <td>477</td>\n",
       "      <td>2017-11-08 17:47:39</td>\n",
       "      <td>0</td>\n",
       "      <td>17</td>\n",
       "      <td>1323.0</td>\n",
       "      <td>-1.0</td>\n",
       "      <td>47</td>\n",
       "      <td>5</td>\n",
       "    </tr>\n",
       "    <tr>\n",
       "      <th>4</th>\n",
       "      <td>1</td>\n",
       "      <td>2</td>\n",
       "      <td>1</td>\n",
       "      <td>2</td>\n",
       "      <td>477</td>\n",
       "      <td>2017-11-08 20:08:39</td>\n",
       "      <td>0</td>\n",
       "      <td>20</td>\n",
       "      <td>177.0</td>\n",
       "      <td>8460.0</td>\n",
       "      <td>47</td>\n",
       "      <td>5</td>\n",
       "    </tr>\n",
       "  </tbody>\n",
       "</table>\n",
       "</div>"
      ],
      "text/plain": [
       "   ip  app  device  os  channel          click_time  is_attributed  hour  \\\n",
       "0   1    1       1   2      125 2017-11-09 14:34:10              0    14   \n",
       "1   1    1       1   9      125 2017-11-09 03:01:54              0     3   \n",
       "2   1    1       1  48       13 2017-11-09 10:42:11              0    10   \n",
       "3   1    2       1   2      477 2017-11-08 17:47:39              0    17   \n",
       "4   1    2       1   2      477 2017-11-08 20:08:39              0    20   \n",
       "\n",
       "   ip_time_diff  all_time_diff  ip_count  all_count  \n",
       "0           1.0           -1.0        47          1  \n",
       "1           0.0        44864.0        47          1  \n",
       "2         465.0           -1.0        47          1  \n",
       "3        1323.0           -1.0        47          5  \n",
       "4         177.0         8460.0        47          5  "
      ]
     },
     "execution_count": 6,
     "metadata": {},
     "output_type": "execute_result"
    }
   ],
   "source": [
    "train.head()"
   ]
  },
  {
   "cell_type": "code",
   "execution_count": 7,
   "metadata": {},
   "outputs": [
    {
     "data": {
      "text/plain": [
       "100000"
      ]
     },
     "execution_count": 7,
     "metadata": {},
     "output_type": "execute_result"
    }
   ],
   "source": [
    "cat_vars = ['ip', 'app', 'device', 'os', 'channel', 'hour']\n",
    "\n",
    "contin_vars = ['ip_time_diff', 'all_time_diff', 'ip_count', 'all_count']\n",
    "\n",
    "index = 'click_time'\n",
    "label = 'is_attributed'\n",
    "\n",
    "n = len(train); n"
   ]
  },
  {
   "cell_type": "code",
   "execution_count": 8,
   "metadata": {
    "collapsed": true
   },
   "outputs": [],
   "source": [
    "for v in cat_vars: train[v] = train[v].astype('category').cat.as_ordered()"
   ]
  },
  {
   "cell_type": "code",
   "execution_count": 9,
   "metadata": {
    "collapsed": true
   },
   "outputs": [],
   "source": [
    "apply_cats(test, train)"
   ]
  },
  {
   "cell_type": "code",
   "execution_count": 10,
   "metadata": {
    "collapsed": true
   },
   "outputs": [],
   "source": [
    "for v in contin_vars:\n",
    "    train[v] = train[v].astype('float32')\n",
    "    test[v] = test[v].astype('float32')"
   ]
  },
  {
   "cell_type": "code",
   "execution_count": 11,
   "metadata": {
    "collapsed": true
   },
   "outputs": [],
   "source": [
    "train = train.set_index(index)\n",
    "test = test.set_index(index)"
   ]
  },
  {
   "cell_type": "code",
   "execution_count": 19,
   "metadata": {
    "collapsed": true
   },
   "outputs": [],
   "source": [
    "test[label] = 0\n",
    "#train[label] = train[label].astype('category').cat.as_ordered()"
   ]
  },
  {
   "cell_type": "code",
   "execution_count": 13,
   "metadata": {},
   "outputs": [
    {
     "name": "stdout",
     "output_type": "stream",
     "text": [
      "<class 'pandas.core.frame.DataFrame'>\n",
      "DatetimeIndex: 100000 entries, 2017-11-09 14:34:10 to 2017-11-07 05:16:12\n",
      "Data columns (total 11 columns):\n",
      "ip               100000 non-null category\n",
      "app              100000 non-null category\n",
      "device           100000 non-null category\n",
      "os               100000 non-null category\n",
      "channel          100000 non-null category\n",
      "is_attributed    100000 non-null int64\n",
      "hour             100000 non-null category\n",
      "ip_time_diff     100000 non-null float32\n",
      "all_time_diff    100000 non-null float32\n",
      "ip_count         100000 non-null float32\n",
      "all_count        100000 non-null float32\n",
      "dtypes: category(6), float32(4), int64(1)\n",
      "memory usage: 3.8 MB\n"
     ]
    }
   ],
   "source": [
    "train.info()"
   ]
  },
  {
   "cell_type": "code",
   "execution_count": 15,
   "metadata": {},
   "outputs": [
    {
     "name": "stdout",
     "output_type": "stream",
     "text": [
      "<class 'pandas.core.frame.DataFrame'>\n",
      "DatetimeIndex: 10000 entries, 2017-11-10 04:51:27 to 2017-11-10 05:23:46\n",
      "Data columns (total 11 columns):\n",
      "click_id         10000 non-null int64\n",
      "ip               8988 non-null category\n",
      "app              9990 non-null category\n",
      "device           9961 non-null category\n",
      "os               9929 non-null category\n",
      "channel          9993 non-null category\n",
      "hour             10000 non-null category\n",
      "ip_time_diff     10000 non-null float32\n",
      "all_time_diff    10000 non-null float32\n",
      "ip_count         10000 non-null float32\n",
      "all_count        10000 non-null float32\n",
      "dtypes: category(6), float32(4), int64(1)\n",
      "memory usage: 411.5 KB\n"
     ]
    }
   ],
   "source": [
    "test.info()"
   ]
  },
  {
   "cell_type": "code",
   "execution_count": 27,
   "metadata": {},
   "outputs": [],
   "source": [
    "df, y, nas, mapper = proc_df(train, label, do_scale=True)\n",
    "df_test, _, nas, mapper = proc_df(test, label, do_scale=True, mapper=mapper, na_dict=nas, skip_flds=['click_id'])"
   ]
  },
  {
   "cell_type": "code",
   "execution_count": 28,
   "metadata": {},
   "outputs": [
    {
     "data": {
      "text/html": [
       "<div>\n",
       "<style>\n",
       "    .dataframe thead tr:only-child th {\n",
       "        text-align: right;\n",
       "    }\n",
       "\n",
       "    .dataframe thead th {\n",
       "        text-align: left;\n",
       "    }\n",
       "\n",
       "    .dataframe tbody tr th {\n",
       "        vertical-align: top;\n",
       "    }\n",
       "</style>\n",
       "<table border=\"1\" class=\"dataframe\">\n",
       "  <thead>\n",
       "    <tr style=\"text-align: right;\">\n",
       "      <th></th>\n",
       "      <th>ip</th>\n",
       "      <th>app</th>\n",
       "      <th>device</th>\n",
       "      <th>os</th>\n",
       "      <th>channel</th>\n",
       "      <th>hour</th>\n",
       "      <th>ip_time_diff</th>\n",
       "      <th>all_time_diff</th>\n",
       "      <th>ip_count</th>\n",
       "      <th>all_count</th>\n",
       "    </tr>\n",
       "    <tr>\n",
       "      <th>click_time</th>\n",
       "      <th></th>\n",
       "      <th></th>\n",
       "      <th></th>\n",
       "      <th></th>\n",
       "      <th></th>\n",
       "      <th></th>\n",
       "      <th></th>\n",
       "      <th></th>\n",
       "      <th></th>\n",
       "      <th></th>\n",
       "    </tr>\n",
       "  </thead>\n",
       "  <tbody>\n",
       "    <tr>\n",
       "      <th>2017-11-09 14:34:10</th>\n",
       "      <td>1</td>\n",
       "      <td>1</td>\n",
       "      <td>2</td>\n",
       "      <td>3</td>\n",
       "      <td>27</td>\n",
       "      <td>15</td>\n",
       "      <td>-0.194527</td>\n",
       "      <td>-0.536435</td>\n",
       "      <td>-2.043044</td>\n",
       "      <td>-0.444520</td>\n",
       "    </tr>\n",
       "    <tr>\n",
       "      <th>2017-11-09 03:01:54</th>\n",
       "      <td>1</td>\n",
       "      <td>1</td>\n",
       "      <td>2</td>\n",
       "      <td>10</td>\n",
       "      <td>27</td>\n",
       "      <td>4</td>\n",
       "      <td>-0.196819</td>\n",
       "      <td>1.671108</td>\n",
       "      <td>-2.043044</td>\n",
       "      <td>-0.444520</td>\n",
       "    </tr>\n",
       "    <tr>\n",
       "      <th>2017-11-09 10:42:11</th>\n",
       "      <td>1</td>\n",
       "      <td>1</td>\n",
       "      <td>2</td>\n",
       "      <td>48</td>\n",
       "      <td>3</td>\n",
       "      <td>11</td>\n",
       "      <td>0.869254</td>\n",
       "      <td>-0.536435</td>\n",
       "      <td>-2.043044</td>\n",
       "      <td>-0.444520</td>\n",
       "    </tr>\n",
       "    <tr>\n",
       "      <th>2017-11-08 17:47:39</th>\n",
       "      <td>1</td>\n",
       "      <td>2</td>\n",
       "      <td>2</td>\n",
       "      <td>3</td>\n",
       "      <td>141</td>\n",
       "      <td>18</td>\n",
       "      <td>2.836332</td>\n",
       "      <td>-0.536435</td>\n",
       "      <td>-2.043044</td>\n",
       "      <td>-0.320806</td>\n",
       "    </tr>\n",
       "    <tr>\n",
       "      <th>2017-11-08 20:08:39</th>\n",
       "      <td>1</td>\n",
       "      <td>2</td>\n",
       "      <td>2</td>\n",
       "      <td>3</td>\n",
       "      <td>141</td>\n",
       "      <td>21</td>\n",
       "      <td>0.208976</td>\n",
       "      <td>-0.120119</td>\n",
       "      <td>-2.043044</td>\n",
       "      <td>-0.320806</td>\n",
       "    </tr>\n",
       "  </tbody>\n",
       "</table>\n",
       "</div>"
      ],
      "text/plain": [
       "                     ip  app  device  os  channel  hour  ip_time_diff  \\\n",
       "click_time                                                              \n",
       "2017-11-09 14:34:10   1    1       2   3       27    15     -0.194527   \n",
       "2017-11-09 03:01:54   1    1       2  10       27     4     -0.196819   \n",
       "2017-11-09 10:42:11   1    1       2  48        3    11      0.869254   \n",
       "2017-11-08 17:47:39   1    2       2   3      141    18      2.836332   \n",
       "2017-11-08 20:08:39   1    2       2   3      141    21      0.208976   \n",
       "\n",
       "                     all_time_diff  ip_count  all_count  \n",
       "click_time                                               \n",
       "2017-11-09 14:34:10      -0.536435 -2.043044  -0.444520  \n",
       "2017-11-09 03:01:54       1.671108 -2.043044  -0.444520  \n",
       "2017-11-09 10:42:11      -0.536435 -2.043044  -0.444520  \n",
       "2017-11-08 17:47:39      -0.536435 -2.043044  -0.320806  \n",
       "2017-11-08 20:08:39      -0.120119 -2.043044  -0.320806  "
      ]
     },
     "execution_count": 28,
     "metadata": {},
     "output_type": "execute_result"
    }
   ],
   "source": [
    "df.head()"
   ]
  },
  {
   "cell_type": "code",
   "execution_count": 29,
   "metadata": {},
   "outputs": [
    {
     "data": {
      "text/html": [
       "<div>\n",
       "<style>\n",
       "    .dataframe thead tr:only-child th {\n",
       "        text-align: right;\n",
       "    }\n",
       "\n",
       "    .dataframe thead th {\n",
       "        text-align: left;\n",
       "    }\n",
       "\n",
       "    .dataframe tbody tr th {\n",
       "        vertical-align: top;\n",
       "    }\n",
       "</style>\n",
       "<table border=\"1\" class=\"dataframe\">\n",
       "  <thead>\n",
       "    <tr style=\"text-align: right;\">\n",
       "      <th></th>\n",
       "      <th>ip</th>\n",
       "      <th>app</th>\n",
       "      <th>device</th>\n",
       "      <th>os</th>\n",
       "      <th>channel</th>\n",
       "      <th>hour</th>\n",
       "      <th>ip_time_diff</th>\n",
       "      <th>all_time_diff</th>\n",
       "      <th>ip_count</th>\n",
       "      <th>all_count</th>\n",
       "    </tr>\n",
       "    <tr>\n",
       "      <th>click_time</th>\n",
       "      <th></th>\n",
       "      <th></th>\n",
       "      <th></th>\n",
       "      <th></th>\n",
       "      <th></th>\n",
       "      <th></th>\n",
       "      <th></th>\n",
       "      <th></th>\n",
       "      <th></th>\n",
       "      <th></th>\n",
       "    </tr>\n",
       "  </thead>\n",
       "  <tbody>\n",
       "    <tr>\n",
       "      <th>2017-11-10 04:51:27</th>\n",
       "      <td>0</td>\n",
       "      <td>0</td>\n",
       "      <td>1</td>\n",
       "      <td>1</td>\n",
       "      <td>12</td>\n",
       "      <td>5</td>\n",
       "      <td>-0.199112</td>\n",
       "      <td>-0.536435</td>\n",
       "      <td>-2.069308</td>\n",
       "      <td>-0.413591</td>\n",
       "    </tr>\n",
       "    <tr>\n",
       "      <th>2017-11-10 04:54:10</th>\n",
       "      <td>0</td>\n",
       "      <td>0</td>\n",
       "      <td>1</td>\n",
       "      <td>1</td>\n",
       "      <td>12</td>\n",
       "      <td>5</td>\n",
       "      <td>0.176880</td>\n",
       "      <td>-0.528365</td>\n",
       "      <td>-2.069308</td>\n",
       "      <td>-0.413591</td>\n",
       "    </tr>\n",
       "    <tr>\n",
       "      <th>2017-11-10 04:54:32</th>\n",
       "      <td>1</td>\n",
       "      <td>10</td>\n",
       "      <td>2</td>\n",
       "      <td>8</td>\n",
       "      <td>18</td>\n",
       "      <td>5</td>\n",
       "      <td>-0.199112</td>\n",
       "      <td>-0.536435</td>\n",
       "      <td>-2.069891</td>\n",
       "      <td>-0.444520</td>\n",
       "    </tr>\n",
       "    <tr>\n",
       "      <th>2017-11-10 13:03:16</th>\n",
       "      <td>0</td>\n",
       "      <td>1</td>\n",
       "      <td>2</td>\n",
       "      <td>14</td>\n",
       "      <td>99</td>\n",
       "      <td>14</td>\n",
       "      <td>-0.196819</td>\n",
       "      <td>-0.536435</td>\n",
       "      <td>-2.067557</td>\n",
       "      <td>-0.444520</td>\n",
       "    </tr>\n",
       "    <tr>\n",
       "      <th>2017-11-10 13:03:16</th>\n",
       "      <td>0</td>\n",
       "      <td>3</td>\n",
       "      <td>2</td>\n",
       "      <td>14</td>\n",
       "      <td>99</td>\n",
       "      <td>14</td>\n",
       "      <td>-0.194527</td>\n",
       "      <td>-0.536385</td>\n",
       "      <td>-2.067557</td>\n",
       "      <td>-0.444520</td>\n",
       "    </tr>\n",
       "  </tbody>\n",
       "</table>\n",
       "</div>"
      ],
      "text/plain": [
       "                     ip  app  device  os  channel  hour  ip_time_diff  \\\n",
       "click_time                                                              \n",
       "2017-11-10 04:51:27   0    0       1   1       12     5     -0.199112   \n",
       "2017-11-10 04:54:10   0    0       1   1       12     5      0.176880   \n",
       "2017-11-10 04:54:32   1   10       2   8       18     5     -0.199112   \n",
       "2017-11-10 13:03:16   0    1       2  14       99    14     -0.196819   \n",
       "2017-11-10 13:03:16   0    3       2  14       99    14     -0.194527   \n",
       "\n",
       "                     all_time_diff  ip_count  all_count  \n",
       "click_time                                               \n",
       "2017-11-10 04:51:27      -0.536435 -2.069308  -0.413591  \n",
       "2017-11-10 04:54:10      -0.528365 -2.069308  -0.413591  \n",
       "2017-11-10 04:54:32      -0.536435 -2.069891  -0.444520  \n",
       "2017-11-10 13:03:16      -0.536435 -2.067557  -0.444520  \n",
       "2017-11-10 13:03:16      -0.536385 -2.067557  -0.444520  "
      ]
     },
     "execution_count": 29,
     "metadata": {},
     "output_type": "execute_result"
    }
   ],
   "source": [
    "df_test.head()"
   ]
  },
  {
   "cell_type": "code",
   "execution_count": 30,
   "metadata": {
    "collapsed": true
   },
   "outputs": [],
   "source": [
    "train_ratio = 0.75\n",
    "train_size = int(n * train_ratio)\n",
    "val_idx = list(range(train_size, len(df)))"
   ]
  },
  {
   "cell_type": "code",
   "execution_count": 31,
   "metadata": {
    "collapsed": true
   },
   "outputs": [],
   "source": [
    "def inv_y(a): return np.exp(a)\n",
    "\n",
    "def exp_rmspe(y_pred, targ):\n",
    "    targ = inv_y(targ)\n",
    "    pct_var = (targ - inv_y(y_pred))/targ\n",
    "    return math.sqrt((pct_var**2).mean())"
   ]
  },
  {
   "cell_type": "code",
   "execution_count": 32,
   "metadata": {
    "collapsed": true
   },
   "outputs": [],
   "source": [
    "import numbers\n",
    "import numpy as np\n",
    "import torch\n",
    "\n",
    "\n",
    "class AUCMeter():\n",
    "    \"\"\"\n",
    "    The AUCMeter measures the area under the receiver-operating characteristic\n",
    "    (ROC) curve for binary classification problems. The area under the curve (AUC)\n",
    "    can be interpreted as the probability that, given a randomly selected positive\n",
    "    example and a randomly selected negative example, the positive example is\n",
    "    assigned a higher score by the classification model than the negative example.\n",
    "    The AUCMeter is designed to operate on one-dimensional Tensors `output`\n",
    "    and `target`, where (1) the `output` contains model output scores that ought to\n",
    "    be higher when the model is more convinced that the example should be positively\n",
    "    labeled, and smaller when the model believes the example should be negatively\n",
    "    labeled (for instance, the output of a signoid function); and (2) the `target`\n",
    "    contains only values 0 (for negative examples) and 1 (for positive examples).\n",
    "    \"\"\"\n",
    "\n",
    "    def __init__(self):\n",
    "        super(AUCMeter, self).__init__()\n",
    "        self.reset()\n",
    "\n",
    "    def reset(self):\n",
    "        self.scores = torch.DoubleTensor(torch.DoubleStorage()).numpy()\n",
    "        self.targets = torch.LongTensor(torch.LongStorage()).numpy()\n",
    "\n",
    "    def add(self, output, target):\n",
    "        if torch.is_tensor(output):\n",
    "            output = output.cpu().squeeze().numpy()\n",
    "        if torch.is_tensor(target):\n",
    "            target = target.cpu().squeeze().numpy()\n",
    "        elif isinstance(target, numbers.Number):\n",
    "            target = np.asarray([target])\n",
    "        assert np.ndim(output) == 1, \\\n",
    "            'wrong output size (1D expected)'\n",
    "        assert np.ndim(target) == 1, \\\n",
    "            'wrong target size (1D expected)'\n",
    "        assert output.shape[0] == target.shape[0], \\\n",
    "            'number of outputs and targets does not match'\n",
    "        assert np.all(np.add(np.equal(target, 1), np.equal(target, 0))), \\\n",
    "            'targets should be binary (0, 1)'\n",
    "\n",
    "        self.scores = np.append(self.scores, output)\n",
    "        self.targets = np.append(self.targets, target)\n",
    "\n",
    "    def value(self):\n",
    "        # case when number of elements added are 0\n",
    "        if self.scores.shape[0] == 0:\n",
    "            return 0.5\n",
    "\n",
    "        # sorting the arrays\n",
    "        scores, sortind = torch.sort(torch.from_numpy(\n",
    "            self.scores), dim=0, descending=True)\n",
    "        scores = scores.numpy()\n",
    "        sortind = sortind.numpy()\n",
    "\n",
    "        # creating the roc curve\n",
    "        tpr = np.zeros(shape=(scores.size + 1), dtype=np.float64)\n",
    "        fpr = np.zeros(shape=(scores.size + 1), dtype=np.float64)\n",
    "\n",
    "        for i in range(1, scores.size + 1):\n",
    "            if self.targets[sortind[i - 1]] == 1:\n",
    "                tpr[i] = tpr[i - 1] + 1\n",
    "                fpr[i] = fpr[i - 1]\n",
    "            else:\n",
    "                tpr[i] = tpr[i - 1]\n",
    "                fpr[i] = fpr[i - 1] + 1\n",
    "\n",
    "        tpr /= (self.targets.sum() * 1.0)\n",
    "        fpr /= ((self.targets - 1.0).sum() * -1.0)\n",
    "\n",
    "        # calculating area under curve using trapezoidal rule\n",
    "        n = tpr.shape[0]\n",
    "        h = fpr[1:n] - fpr[0:n - 1]\n",
    "        sum_h = np.zeros(fpr.shape)\n",
    "        sum_h[0:n - 1] = h\n",
    "        sum_h[1:n] += h\n",
    "        area = (sum_h * tpr).sum() / 2.0\n",
    "\n",
    "        return (area, tpr, fpr)"
   ]
  },
  {
   "cell_type": "code",
   "execution_count": 33,
   "metadata": {
    "collapsed": true
   },
   "outputs": [],
   "source": [
    "def roc(y_pred, targ):\n",
    "    y_pred = y_pred.round()\n",
    "    auc = AUCMeter()\n",
    "    auc.add(y_pred, targ)\n",
    "    area, tpr, fpr = auc.value()\n",
    "    \n",
    "    return area"
   ]
  },
  {
   "cell_type": "code",
   "execution_count": 43,
   "metadata": {},
   "outputs": [],
   "source": [
    "md = ColumnarModelData.from_data_frame(PATH, val_idx, df, y.astype(np.float32), cat_flds=cat_vars, bs=128,test_df=df_test)"
   ]
  },
  {
   "cell_type": "code",
   "execution_count": 44,
   "metadata": {
    "collapsed": true
   },
   "outputs": [],
   "source": [
    "cat_sz = [(c, len(train[c].cat.categories)+1) for c in cat_vars]"
   ]
  },
  {
   "cell_type": "code",
   "execution_count": 45,
   "metadata": {},
   "outputs": [
    {
     "data": {
      "text/plain": [
       "[('ip', 50),\n",
       " ('app', 131),\n",
       " ('device', 70),\n",
       " ('os', 91),\n",
       " ('channel', 155),\n",
       " ('hour', 25)]"
      ]
     },
     "execution_count": 45,
     "metadata": {},
     "output_type": "execute_result"
    }
   ],
   "source": [
    "cat_sz"
   ]
  },
  {
   "cell_type": "code",
   "execution_count": 46,
   "metadata": {
    "collapsed": true
   },
   "outputs": [],
   "source": [
    "emb_szs = [(c, min(200, c)) for _,c in cat_sz]"
   ]
  },
  {
   "cell_type": "code",
   "execution_count": 47,
   "metadata": {},
   "outputs": [
    {
     "data": {
      "text/plain": [
       "[(50, 50), (131, 131), (70, 70), (91, 91), (155, 155), (25, 25)]"
      ]
     },
     "execution_count": 47,
     "metadata": {},
     "output_type": "execute_result"
    }
   ],
   "source": [
    "emb_szs"
   ]
  },
  {
   "cell_type": "code",
   "execution_count": 48,
   "metadata": {
    "collapsed": true
   },
   "outputs": [],
   "source": [
    "m = md.get_learner(emb_szs, len(contin_vars), 0.04, 1, [1000,500], [0.001,0.01])\n",
    "lr = 1e-3"
   ]
  },
  {
   "cell_type": "code",
   "execution_count": 49,
   "metadata": {},
   "outputs": [
    {
     "data": {
      "application/vnd.jupyter.widget-view+json": {
       "model_id": "4c0ac83ff5a049bfaa6f7073063f0191"
      }
     },
     "metadata": {},
     "output_type": "display_data"
    },
    {
     "name": "stdout",
     "output_type": "stream",
     "text": [
      " 30%|██▉       | 175/586 [00:04<00:08, 49.11it/s, loss=0.00348] \n"
     ]
    }
   ],
   "source": [
    "m.lr_find()"
   ]
  },
  {
   "cell_type": "code",
   "execution_count": 50,
   "metadata": {},
   "outputs": [
    {
     "data": {
      "image/png": "[encoded data removed]",
      "text/plain": [
       "<matplotlib.figure.Figure at 0x7f1256464940>"
      ]
     },
     "metadata": {},
     "output_type": "display_data"
    }
   ],
   "source": [
    "m.sched.plot(100)"
   ]
  },
  {
   "cell_type": "code",
   "execution_count": 51,
   "metadata": {
    "collapsed": true
   },
   "outputs": [],
   "source": [
    "m = md.get_learner(emb_szs, len(contin_vars), 0.04, 1, [1000,500], [0.001,0.01])\n",
    "lr = 1e-4"
   ]
  },
  {
   "cell_type": "code",
   "execution_count": 52,
   "metadata": {
    "collapsed": true
   },
   "outputs": [],
   "source": [
    "from sklearn.metrics import fbeta_score\n",
    "\n",
    "def f2(preds,targs,start=0.17, end=0.24, step=0.01):\n",
    "    with warnings.catch_warnings():\n",
    "        warnings.simplefilter(\"ignore\")\n",
    "        return max([fbeta_score(targs, (preds>th), 2, average='samples') for th in np.arange(start,end,step)])"
   ]
  },
  {
   "cell_type": "code",
   "execution_count": 53,
   "metadata": {
    "collapsed": true
   },
   "outputs": [],
   "source": [
    "from sklearn.metrics import roc_auc_score\n",
    "\n",
    "def roc_auc(preds,targs):\n",
    "    with warnings.catch_warnings():\n",
    "        warnings.simplefilter(\"ignore\")\n",
    "        return max(roc_auc_score(targs, (preds>0.5), average='macro'),0)"
   ]
  },
  {
   "cell_type": "code",
   "execution_count": 54,
   "metadata": {},
   "outputs": [
    {
     "data": {
      "application/vnd.jupyter.widget-view+json": {
       "model_id": "b644715582ed4535a4d5f677077ea4bd"
      }
     },
     "metadata": {},
     "output_type": "display_data"
    },
    {
     "name": "stdout",
     "output_type": "stream",
     "text": [
      "epoch      trn_loss   val_loss   exp_rmspe                     \n",
      "    0      0.001908   0.001372   0.021968  \n",
      "    1      0.001549   0.001365   0.023975                       \n",
      "    2      0.001156   0.001194   0.018842                       \n",
      "\n"
     ]
    },
    {
     "data": {
      "text/plain": [
       "[0.0011937147, 0.018842084707235245]"
      ]
     },
     "execution_count": 54,
     "metadata": {},
     "output_type": "execute_result"
    }
   ],
   "source": [
    "m.fit(lr, 3, metrics=[exp_rmspe])"
   ]
  },
  {
   "cell_type": "code",
   "execution_count": null,
   "metadata": {
    "collapsed": true
   },
   "outputs": [],
   "source": [
    "m.fit(lr, 5, metrics=[exp_rmspe], cycle_len=1)"
   ]
  },
  {
   "cell_type": "code",
   "execution_count": null,
   "metadata": {
    "collapsed": true
   },
   "outputs": [],
   "source": [
    "m.fit(lr, 2, metrics=[exp_rmspe], cycle_len=4)"
   ]
  },
  {
   "cell_type": "markdown",
   "metadata": {},
   "source": [
    "### Test"
   ]
  },
  {
   "cell_type": "code",
   "execution_count": null,
   "metadata": {
    "collapsed": true
   },
   "outputs": [],
   "source": [
    "x,y=m.predict_with_targs()"
   ]
  },
  {
   "cell_type": "code",
   "execution_count": null,
   "metadata": {
    "collapsed": true
   },
   "outputs": [],
   "source": [
    "exp_rmspe(x,y)"
   ]
  },
  {
   "cell_type": "code",
   "execution_count": null,
   "metadata": {
    "collapsed": true
   },
   "outputs": [],
   "source": [
    "pred_test=m.predict(True)"
   ]
  },
  {
   "cell_type": "code",
   "execution_count": null,
   "metadata": {
    "collapsed": true
   },
   "outputs": [],
   "source": []
  },
  {
   "cell_type": "code",
   "execution_count": null,
   "metadata": {
    "collapsed": true
   },
   "outputs": [],
   "source": []
  }
 ],
 "metadata": {
  "kernelspec": {
   "display_name": "Python 3",
   "language": "python",
   "name": "python3"
  },
  "language_info": {
   "codemirror_mode": {
    "name": "ipython",
    "version": 3
   },
   "file_extension": ".py",
   "mimetype": "text/x-python",
   "name": "python",
   "nbconvert_exporter": "python",
   "pygments_lexer": "ipython3",
   "version": "3.6.1"
  }
 },
 "nbformat": 4,
 "nbformat_minor": 2
}
